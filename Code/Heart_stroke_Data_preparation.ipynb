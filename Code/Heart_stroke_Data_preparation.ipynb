{
  "nbformat": 4,
  "nbformat_minor": 0,
  "metadata": {
    "colab": {
      "name": "Heart_stroke_Data_preparation.ipynb",
      "provenance": [],
      "collapsed_sections": []
    },
    "kernelspec": {
      "name": "python3",
      "display_name": "Python 3"
    },
    "accelerator": "GPU"
  },
  "cells": [
    {
      "cell_type": "code",
      "metadata": {
        "id": "lOjzZSfYQNVD",
        "colab_type": "code",
        "colab": {}
      },
      "source": [
        "fimport pandas as pd\n",
        "import numpy as np\n",
        "\n",
        "import numpy as np\n",
        "import pandas as pd\n",
        "from sklearn.model_selection import train_test_split\n",
        "from sklearn import svm\n",
        "import matplotlib.pyplot as plt\n",
        "import seaborn as sns\n",
        "\n",
        "from sklearn.preprocessing import StandardScaler"
      ],
      "execution_count": null,
      "outputs": []
    },
    {
      "cell_type": "code",
      "metadata": {
        "id": "gqlrHWTQQYuC",
        "colab_type": "code",
        "colab": {
          "base_uri": "https://localhost:8080/",
          "height": 34
        },
        "outputId": "ac250b28-fc96-4d3c-c2f0-02a46b5e902e"
      },
      "source": [
        "import tensorflow as tf\n",
        "tf.test.gpu_device_name()"
      ],
      "execution_count": null,
      "outputs": [
        {
          "output_type": "execute_result",
          "data": {
            "text/plain": [
              "'/device:GPU:0'"
            ]
          },
          "metadata": {
            "tags": []
          },
          "execution_count": 13
        }
      ]
    },
    {
      "cell_type": "code",
      "metadata": {
        "id": "G4nd2bl7QmSB",
        "colab_type": "code",
        "colab": {
          "resources": {
            "http://localhost:8080/nbextensions/google.colab/files.js": {
              "data": "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",
              "ok": true,
              "headers": [
                [
                  "content-type",
                  "application/javascript"
                ]
              ],
              "status": 200,
              "status_text": ""
            }
          },
          "base_uri": "https://localhost:8080/",
          "height": 74
        },
        "outputId": "c5d313a3-17ff-421f-85cb-2d51c66af9ec"
      },
      "source": [
        "from google.colab import files\n",
        "uploaded = files.upload()"
      ],
      "execution_count": null,
      "outputs": [
        {
          "output_type": "display_data",
          "data": {
            "text/html": [
              "\n",
              "     <input type=\"file\" id=\"files-3dbf47db-ef0b-4af7-adda-7b95e2c84f96\" name=\"files[]\" multiple disabled />\n",
              "     <output id=\"result-3dbf47db-ef0b-4af7-adda-7b95e2c84f96\">\n",
              "      Upload widget is only available when the cell has been executed in the\n",
              "      current browser session. Please rerun this cell to enable.\n",
              "      </output>\n",
              "      <script src=\"/nbextensions/google.colab/files.js\"></script> "
            ],
            "text/plain": [
              "<IPython.core.display.HTML object>"
            ]
          },
          "metadata": {
            "tags": []
          }
        },
        {
          "output_type": "stream",
          "text": [
            "Saving train_2v.csv to train_2v (1).csv\n"
          ],
          "name": "stdout"
        }
      ]
    },
    {
      "cell_type": "code",
      "metadata": {
        "id": "BfJf8DFwQ4Tx",
        "colab_type": "code",
        "colab": {
          "base_uri": "https://localhost:8080/",
          "height": 297
        },
        "outputId": "4e21be38-3c48-4ee2-c289-904c14b27633"
      },
      "source": [
        "data = pd.read_csv(\"train_2v.csv\")\n",
        "data.describe()"
      ],
      "execution_count": null,
      "outputs": [
        {
          "output_type": "execute_result",
          "data": {
            "text/html": [
              "<div>\n",
              "<style scoped>\n",
              "    .dataframe tbody tr th:only-of-type {\n",
              "        vertical-align: middle;\n",
              "    }\n",
              "\n",
              "    .dataframe tbody tr th {\n",
              "        vertical-align: top;\n",
              "    }\n",
              "\n",
              "    .dataframe thead th {\n",
              "        text-align: right;\n",
              "    }\n",
              "</style>\n",
              "<table border=\"1\" class=\"dataframe\">\n",
              "  <thead>\n",
              "    <tr style=\"text-align: right;\">\n",
              "      <th></th>\n",
              "      <th>id</th>\n",
              "      <th>age</th>\n",
              "      <th>hypertension</th>\n",
              "      <th>heart_disease</th>\n",
              "      <th>avg_glucose_level</th>\n",
              "      <th>bmi</th>\n",
              "      <th>stroke</th>\n",
              "    </tr>\n",
              "  </thead>\n",
              "  <tbody>\n",
              "    <tr>\n",
              "      <th>count</th>\n",
              "      <td>43400.000000</td>\n",
              "      <td>43400.000000</td>\n",
              "      <td>43400.000000</td>\n",
              "      <td>43400.000000</td>\n",
              "      <td>43400.000000</td>\n",
              "      <td>41938.000000</td>\n",
              "      <td>43400.000000</td>\n",
              "    </tr>\n",
              "    <tr>\n",
              "      <th>mean</th>\n",
              "      <td>36326.142350</td>\n",
              "      <td>42.217894</td>\n",
              "      <td>0.093571</td>\n",
              "      <td>0.047512</td>\n",
              "      <td>104.482750</td>\n",
              "      <td>28.605038</td>\n",
              "      <td>0.018041</td>\n",
              "    </tr>\n",
              "    <tr>\n",
              "      <th>std</th>\n",
              "      <td>21072.134879</td>\n",
              "      <td>22.519649</td>\n",
              "      <td>0.291235</td>\n",
              "      <td>0.212733</td>\n",
              "      <td>43.111751</td>\n",
              "      <td>7.770020</td>\n",
              "      <td>0.133103</td>\n",
              "    </tr>\n",
              "    <tr>\n",
              "      <th>min</th>\n",
              "      <td>1.000000</td>\n",
              "      <td>0.080000</td>\n",
              "      <td>0.000000</td>\n",
              "      <td>0.000000</td>\n",
              "      <td>55.000000</td>\n",
              "      <td>10.100000</td>\n",
              "      <td>0.000000</td>\n",
              "    </tr>\n",
              "    <tr>\n",
              "      <th>25%</th>\n",
              "      <td>18038.500000</td>\n",
              "      <td>24.000000</td>\n",
              "      <td>0.000000</td>\n",
              "      <td>0.000000</td>\n",
              "      <td>77.540000</td>\n",
              "      <td>23.200000</td>\n",
              "      <td>0.000000</td>\n",
              "    </tr>\n",
              "    <tr>\n",
              "      <th>50%</th>\n",
              "      <td>36351.500000</td>\n",
              "      <td>44.000000</td>\n",
              "      <td>0.000000</td>\n",
              "      <td>0.000000</td>\n",
              "      <td>91.580000</td>\n",
              "      <td>27.700000</td>\n",
              "      <td>0.000000</td>\n",
              "    </tr>\n",
              "    <tr>\n",
              "      <th>75%</th>\n",
              "      <td>54514.250000</td>\n",
              "      <td>60.000000</td>\n",
              "      <td>0.000000</td>\n",
              "      <td>0.000000</td>\n",
              "      <td>112.070000</td>\n",
              "      <td>32.900000</td>\n",
              "      <td>0.000000</td>\n",
              "    </tr>\n",
              "    <tr>\n",
              "      <th>max</th>\n",
              "      <td>72943.000000</td>\n",
              "      <td>82.000000</td>\n",
              "      <td>1.000000</td>\n",
              "      <td>1.000000</td>\n",
              "      <td>291.050000</td>\n",
              "      <td>97.600000</td>\n",
              "      <td>1.000000</td>\n",
              "    </tr>\n",
              "  </tbody>\n",
              "</table>\n",
              "</div>"
            ],
            "text/plain": [
              "                 id           age  ...           bmi        stroke\n",
              "count  43400.000000  43400.000000  ...  41938.000000  43400.000000\n",
              "mean   36326.142350     42.217894  ...     28.605038      0.018041\n",
              "std    21072.134879     22.519649  ...      7.770020      0.133103\n",
              "min        1.000000      0.080000  ...     10.100000      0.000000\n",
              "25%    18038.500000     24.000000  ...     23.200000      0.000000\n",
              "50%    36351.500000     44.000000  ...     27.700000      0.000000\n",
              "75%    54514.250000     60.000000  ...     32.900000      0.000000\n",
              "max    72943.000000     82.000000  ...     97.600000      1.000000\n",
              "\n",
              "[8 rows x 7 columns]"
            ]
          },
          "metadata": {
            "tags": []
          },
          "execution_count": 15
        }
      ]
    },
    {
      "cell_type": "code",
      "metadata": {
        "id": "B0JwXgGlVg_-",
        "colab_type": "code",
        "colab": {
          "base_uri": "https://localhost:8080/",
          "height": 34
        },
        "outputId": "6fe076aa-d7e4-4159-fdad-0732157ae13a"
      },
      "source": [
        "data.shape"
      ],
      "execution_count": null,
      "outputs": [
        {
          "output_type": "execute_result",
          "data": {
            "text/plain": [
              "(43400, 12)"
            ]
          },
          "metadata": {
            "tags": []
          },
          "execution_count": 16
        }
      ]
    },
    {
      "cell_type": "code",
      "metadata": {
        "id": "iqwlGs31RRPi",
        "colab_type": "code",
        "colab": {
          "base_uri": "https://localhost:8080/",
          "height": 34
        },
        "outputId": "3b7ee418-4c8a-40ff-a5f4-717c51edfa3f"
      },
      "source": [
        "data = data.drop(columns='id' )\n",
        "data.shape"
      ],
      "execution_count": null,
      "outputs": [
        {
          "output_type": "execute_result",
          "data": {
            "text/plain": [
              "(43400, 11)"
            ]
          },
          "metadata": {
            "tags": []
          },
          "execution_count": 17
        }
      ]
    },
    {
      "cell_type": "code",
      "metadata": {
        "id": "mh1DJJ-PUuf_",
        "colab_type": "code",
        "colab": {
          "base_uri": "https://localhost:8080/",
          "height": 34
        },
        "outputId": "2eb22c80-522f-421f-83f1-ff9f8cf58998"
      },
      "source": [
        "data = data[data.gender != 'Other']\n",
        "data.shape"
      ],
      "execution_count": null,
      "outputs": [
        {
          "output_type": "execute_result",
          "data": {
            "text/plain": [
              "(43389, 11)"
            ]
          },
          "metadata": {
            "tags": []
          },
          "execution_count": 18
        }
      ]
    },
    {
      "cell_type": "code",
      "metadata": {
        "id": "LxgQU4ZkVZTh",
        "colab_type": "code",
        "colab": {
          "base_uri": "https://localhost:8080/",
          "height": 221
        },
        "outputId": "da6d616b-ce22-4ef8-d2df-6f62e4b212d4"
      },
      "source": [
        "data.isnull().sum()"
      ],
      "execution_count": null,
      "outputs": [
        {
          "output_type": "execute_result",
          "data": {
            "text/plain": [
              "gender                   0\n",
              "age                      0\n",
              "hypertension             0\n",
              "heart_disease            0\n",
              "ever_married             0\n",
              "work_type                0\n",
              "Residence_type           0\n",
              "avg_glucose_level        0\n",
              "bmi                   1458\n",
              "smoking_status       13290\n",
              "stroke                   0\n",
              "dtype: int64"
            ]
          },
          "metadata": {
            "tags": []
          },
          "execution_count": 19
        }
      ]
    },
    {
      "cell_type": "code",
      "metadata": {
        "id": "VyoBzchhbcqn",
        "colab_type": "code",
        "colab": {
          "base_uri": "https://localhost:8080/",
          "height": 315
        },
        "outputId": "d928ee90-7d20-4d82-904f-06b7d34c3ec5"
      },
      "source": [
        "data.hist(column='bmi',grid=False, bins = 25)"
      ],
      "execution_count": null,
      "outputs": [
        {
          "output_type": "execute_result",
          "data": {
            "text/plain": [
              "array([[<matplotlib.axes._subplots.AxesSubplot object at 0x7feeb0c97a20>]],\n",
              "      dtype=object)"
            ]
          },
          "metadata": {
            "tags": []
          },
          "execution_count": 20
        },
        {
          "output_type": "display_data",
          "data": {
            "image/png": "[encoded data removed]",
            "text/plain": [
              "<Figure size 432x288 with 1 Axes>"
            ]
          },
          "metadata": {
            "tags": []
          }
        }
      ]
    },
    {
      "cell_type": "code",
      "metadata": {
        "id": "OQpu3t4MnyF0",
        "colab_type": "code",
        "colab": {
          "base_uri": "https://localhost:8080/",
          "height": 315
        },
        "outputId": "75b13855-dbcb-40b3-a17b-8a7f1fd8d765"
      },
      "source": [
        "from random import seed\n",
        "seed(1)\n",
        "d = data.dropna(subset = ['bmi'])\n",
        "values,indices=np.histogram(d.bmi,bins=25)\n",
        "values=values.astype(np.float32)\n",
        "weights=values/np.sum(values)\n",
        "\n",
        "weights=values/np.sum(values)\n",
        "new_random=np.random.choice(indices[1:],1458,p=weights)\n",
        "m = pd.DataFrame(new_random)\n",
        "m.hist(grid = False, bins = 20)"
      ],
      "execution_count": null,
      "outputs": [
        {
          "output_type": "execute_result",
          "data": {
            "text/plain": [
              "array([[<matplotlib.axes._subplots.AxesSubplot object at 0x7fee1c981c88>]],\n",
              "      dtype=object)"
            ]
          },
          "metadata": {
            "tags": []
          },
          "execution_count": 35
        },
        {
          "output_type": "display_data",
          "data": {
            "image/png": "[encoded data removed]",
            "text/plain": [
              "<Figure size 432x288 with 1 Axes>"
            ]
          },
          "metadata": {
            "tags": []
          }
        }
      ]
    },
    {
      "cell_type": "code",
      "metadata": {
        "id": "3Ku0iugUYEYz",
        "colab_type": "code",
        "colab": {
          "base_uri": "https://localhost:8080/",
          "height": 34
        },
        "outputId": "ae79190d-de29-40ae-ba3f-0be172bfd2af"
      },
      "source": [
        "m.shape"
      ],
      "execution_count": null,
      "outputs": [
        {
          "output_type": "execute_result",
          "data": {
            "text/plain": [
              "(1458, 1)"
            ]
          },
          "metadata": {
            "tags": []
          },
          "execution_count": 36
        }
      ]
    },
    {
      "cell_type": "code",
      "metadata": {
        "id": "9TsMuYBkdjS3",
        "colab_type": "code",
        "colab": {}
      },
      "source": [
        "data.loc[data.bmi.isnull(),'bmi'] = m.values.tolist()\n"
      ],
      "execution_count": null,
      "outputs": []
    },
    {
      "cell_type": "code",
      "metadata": {
        "id": "3LqvcAgt1weW",
        "colab_type": "code",
        "colab": {
          "base_uri": "https://localhost:8080/",
          "height": 221
        },
        "outputId": "a6825696-d3e8-4ca5-f491-2d79fdb647c5"
      },
      "source": [
        "data.isnull().sum()"
      ],
      "execution_count": null,
      "outputs": [
        {
          "output_type": "execute_result",
          "data": {
            "text/plain": [
              "gender                   0\n",
              "age                      0\n",
              "hypertension             0\n",
              "heart_disease            0\n",
              "ever_married             0\n",
              "work_type                0\n",
              "Residence_type           0\n",
              "avg_glucose_level        0\n",
              "bmi                      0\n",
              "smoking_status       13290\n",
              "stroke                   0\n",
              "dtype: int64"
            ]
          },
          "metadata": {
            "tags": []
          },
          "execution_count": 38
        }
      ]
    },
    {
      "cell_type": "code",
      "metadata": {
        "id": "-kb2ogi5BEai",
        "colab_type": "code",
        "colab": {}
      },
      "source": [
        "data_No_smoking_status = data[data.smoking_status.isnull()]\n",
        "data_smoking_status = data.dropna(subset = ['smoking_status'])\n",
        "data_No_smoking_status = data_No_smoking_status.drop(columns=['smoking_status'])"
      ],
      "execution_count": null,
      "outputs": []
    },
    {
      "cell_type": "code",
      "metadata": {
        "id": "mdZTzkFXBZ1P",
        "colab_type": "code",
        "colab": {
          "base_uri": "https://localhost:8080/",
          "height": 34
        },
        "outputId": "282c68aa-1f5a-437d-a6a1-72c0c5b8842f"
      },
      "source": [
        "data_No_smoking_status.head(2)\n",
        "data_No_smoking_status.shape"
      ],
      "execution_count": null,
      "outputs": [
        {
          "output_type": "execute_result",
          "data": {
            "text/plain": [
              "(13290, 10)"
            ]
          },
          "metadata": {
            "tags": []
          },
          "execution_count": 40
        }
      ]
    },
    {
      "cell_type": "code",
      "metadata": {
        "id": "ziwyvTbVBlFH",
        "colab_type": "code",
        "colab": {
          "base_uri": "https://localhost:8080/",
          "height": 34
        },
        "outputId": "3acf8f87-b3aa-48b8-9cc4-3c0c19a72b28"
      },
      "source": [
        "data_smoking_status.head(2)\n",
        "data_No_smoking_status.shape"
      ],
      "execution_count": null,
      "outputs": [
        {
          "output_type": "execute_result",
          "data": {
            "text/plain": [
              "(13290, 10)"
            ]
          },
          "metadata": {
            "tags": []
          },
          "execution_count": 41
        }
      ]
    },
    {
      "cell_type": "code",
      "metadata": {
        "id": "GoykaIXSG9fa",
        "colab_type": "code",
        "colab": {}
      },
      "source": [
        "data_No_smoking_status['gender'] = data_No_smoking_status['gender'].astype('category').cat.codes\n",
        "\n",
        "data_No_smoking_status['ever_married'] = data_No_smoking_status['ever_married'].astype('category').cat.codes\n",
        "\n",
        "data_No_smoking_status['work_type'] = data_No_smoking_status['work_type'].astype('category').cat.codes\n",
        "\n",
        "data_No_smoking_status['Residence_type'] = data_No_smoking_status['Residence_type'].astype('category').cat.codes"
      ],
      "execution_count": null,
      "outputs": []
    },
    {
      "cell_type": "code",
      "metadata": {
        "id": "WgsrBP1bHE-9",
        "colab_type": "code",
        "colab": {
          "base_uri": "https://localhost:8080/",
          "height": 204
        },
        "outputId": "4b74565b-8e78-496e-d0f1-1481ce06fc33"
      },
      "source": [
        "data_No_smoking_status.head()"
      ],
      "execution_count": null,
      "outputs": [
        {
          "output_type": "execute_result",
          "data": {
            "text/html": [
              "<div>\n",
              "<style scoped>\n",
              "    .dataframe tbody tr th:only-of-type {\n",
              "        vertical-align: middle;\n",
              "    }\n",
              "\n",
              "    .dataframe tbody tr th {\n",
              "        vertical-align: top;\n",
              "    }\n",
              "\n",
              "    .dataframe thead th {\n",
              "        text-align: right;\n",
              "    }\n",
              "</style>\n",
              "<table border=\"1\" class=\"dataframe\">\n",
              "  <thead>\n",
              "    <tr style=\"text-align: right;\">\n",
              "      <th></th>\n",
              "      <th>gender</th>\n",
              "      <th>age</th>\n",
              "      <th>hypertension</th>\n",
              "      <th>heart_disease</th>\n",
              "      <th>ever_married</th>\n",
              "      <th>work_type</th>\n",
              "      <th>Residence_type</th>\n",
              "      <th>avg_glucose_level</th>\n",
              "      <th>bmi</th>\n",
              "      <th>stroke</th>\n",
              "    </tr>\n",
              "  </thead>\n",
              "  <tbody>\n",
              "    <tr>\n",
              "      <th>0</th>\n",
              "      <td>1</td>\n",
              "      <td>3.0</td>\n",
              "      <td>0</td>\n",
              "      <td>0</td>\n",
              "      <td>0</td>\n",
              "      <td>4</td>\n",
              "      <td>0</td>\n",
              "      <td>95.12</td>\n",
              "      <td>18.0</td>\n",
              "      <td>0</td>\n",
              "    </tr>\n",
              "    <tr>\n",
              "      <th>2</th>\n",
              "      <td>0</td>\n",
              "      <td>8.0</td>\n",
              "      <td>0</td>\n",
              "      <td>0</td>\n",
              "      <td>0</td>\n",
              "      <td>2</td>\n",
              "      <td>1</td>\n",
              "      <td>110.89</td>\n",
              "      <td>17.6</td>\n",
              "      <td>0</td>\n",
              "    </tr>\n",
              "    <tr>\n",
              "      <th>4</th>\n",
              "      <td>1</td>\n",
              "      <td>14.0</td>\n",
              "      <td>0</td>\n",
              "      <td>0</td>\n",
              "      <td>0</td>\n",
              "      <td>1</td>\n",
              "      <td>0</td>\n",
              "      <td>161.28</td>\n",
              "      <td>19.1</td>\n",
              "      <td>0</td>\n",
              "    </tr>\n",
              "    <tr>\n",
              "      <th>5</th>\n",
              "      <td>0</td>\n",
              "      <td>47.0</td>\n",
              "      <td>0</td>\n",
              "      <td>0</td>\n",
              "      <td>1</td>\n",
              "      <td>2</td>\n",
              "      <td>1</td>\n",
              "      <td>210.95</td>\n",
              "      <td>50.1</td>\n",
              "      <td>0</td>\n",
              "    </tr>\n",
              "    <tr>\n",
              "      <th>10</th>\n",
              "      <td>0</td>\n",
              "      <td>79.0</td>\n",
              "      <td>0</td>\n",
              "      <td>0</td>\n",
              "      <td>1</td>\n",
              "      <td>0</td>\n",
              "      <td>1</td>\n",
              "      <td>77.08</td>\n",
              "      <td>35.0</td>\n",
              "      <td>0</td>\n",
              "    </tr>\n",
              "  </tbody>\n",
              "</table>\n",
              "</div>"
            ],
            "text/plain": [
              "    gender   age  hypertension  ...  avg_glucose_level   bmi  stroke\n",
              "0        1   3.0             0  ...              95.12  18.0       0\n",
              "2        0   8.0             0  ...             110.89  17.6       0\n",
              "4        1  14.0             0  ...             161.28  19.1       0\n",
              "5        0  47.0             0  ...             210.95  50.1       0\n",
              "10       0  79.0             0  ...              77.08  35.0       0\n",
              "\n",
              "[5 rows x 10 columns]"
            ]
          },
          "metadata": {
            "tags": []
          },
          "execution_count": 43
        }
      ]
    },
    {
      "cell_type": "code",
      "metadata": {
        "id": "R6pP9UnzUAxE",
        "colab_type": "code",
        "colab": {
          "base_uri": "https://localhost:8080/",
          "height": 368
        },
        "outputId": "3225b5b8-a306-4640-b4e2-88e2a6177489"
      },
      "source": [
        "import plotly.offline as pyo\n",
        "import plotly.graph_objs as go\n",
        "import seaborn as sns\n",
        "import matplotlib.pyplot as plt\n",
        "colormap = plt.cm.cubehelix_r\n",
        "corrmatrix = data_smoking_status.corr()\n",
        "f, ax = plt.subplots(figsize=(12,12))\n",
        "sns.heatmap(corrmatrix, vmax=0.8, square=True, cmap = 'magma_r',annot=True)\n",
        "#corrmatrix.style.background_gradient(cmap='coolwarm').set_precision(2)"
      ],
      "execution_count": null,
      "outputs": [
        {
          "output_type": "execute_result",
          "data": {
            "text/plain": [
              "<matplotlib.axes._subplots.AxesSubplot at 0x7fee17a826d8>"
            ]
          },
          "metadata": {
            "tags": []
          },
          "execution_count": 51
        },
        {
          "output_type": "display_data",
          "data": {
            "image/png": "[encoded data removed]",
            "text/plain": [
              "<Figure size 432x288 with 2 Axes>"
            ]
          },
          "metadata": {
            "tags": []
          }
        }
      ]
    },
    {
      "cell_type": "code",
      "metadata": {
        "id": "SmCtfbW-HI8h",
        "colab_type": "code",
        "colab": {
          "base_uri": "https://localhost:8080/",
          "height": 697
        },
        "outputId": "9a87d1aa-6869-47f3-9e08-40b212c53aac"
      },
      "source": [
        "data_smoking_status['gender'] = data_smoking_status['gender'].astype('category').cat.codes\n",
        "data_smoking_status['ever_married'] = data_smoking_status['ever_married'].astype('category').cat.codes\n",
        "data_smoking_status['work_type'] = data_smoking_status['work_type'].astype('category').cat.codes\n",
        "data_smoking_status['Residence_type'] = data_smoking_status['Residence_type'].astype('category').cat.codes\n",
        "data_smoking_status['smoking_status'] = data_smoking_status['smoking_status'].astype('category').cat.codes"
      ],
      "execution_count": null,
      "outputs": [
        {
          "output_type": "stream",
          "text": [
            "/usr/local/lib/python3.6/dist-packages/ipykernel_launcher.py:1: SettingWithCopyWarning:\n",
            "\n",
            "\n",
            "A value is trying to be set on a copy of a slice from a DataFrame.\n",
            "Try using .loc[row_indexer,col_indexer] = value instead\n",
            "\n",
            "See the caveats in the documentation: http://pandas.pydata.org/pandas-docs/stable/user_guide/indexing.html#returning-a-view-versus-a-copy\n",
            "\n",
            "/usr/local/lib/python3.6/dist-packages/ipykernel_launcher.py:2: SettingWithCopyWarning:\n",
            "\n",
            "\n",
            "A value is trying to be set on a copy of a slice from a DataFrame.\n",
            "Try using .loc[row_indexer,col_indexer] = value instead\n",
            "\n",
            "See the caveats in the documentation: http://pandas.pydata.org/pandas-docs/stable/user_guide/indexing.html#returning-a-view-versus-a-copy\n",
            "\n",
            "/usr/local/lib/python3.6/dist-packages/ipykernel_launcher.py:3: SettingWithCopyWarning:\n",
            "\n",
            "\n",
            "A value is trying to be set on a copy of a slice from a DataFrame.\n",
            "Try using .loc[row_indexer,col_indexer] = value instead\n",
            "\n",
            "See the caveats in the documentation: http://pandas.pydata.org/pandas-docs/stable/user_guide/indexing.html#returning-a-view-versus-a-copy\n",
            "\n",
            "/usr/local/lib/python3.6/dist-packages/ipykernel_launcher.py:4: SettingWithCopyWarning:\n",
            "\n",
            "\n",
            "A value is trying to be set on a copy of a slice from a DataFrame.\n",
            "Try using .loc[row_indexer,col_indexer] = value instead\n",
            "\n",
            "See the caveats in the documentation: http://pandas.pydata.org/pandas-docs/stable/user_guide/indexing.html#returning-a-view-versus-a-copy\n",
            "\n",
            "/usr/local/lib/python3.6/dist-packages/ipykernel_launcher.py:5: SettingWithCopyWarning:\n",
            "\n",
            "\n",
            "A value is trying to be set on a copy of a slice from a DataFrame.\n",
            "Try using .loc[row_indexer,col_indexer] = value instead\n",
            "\n",
            "See the caveats in the documentation: http://pandas.pydata.org/pandas-docs/stable/user_guide/indexing.html#returning-a-view-versus-a-copy\n",
            "\n"
          ],
          "name": "stderr"
        }
      ]
    },
    {
      "cell_type": "code",
      "metadata": {
        "id": "SfA60147HPeP",
        "colab_type": "code",
        "colab": {
          "base_uri": "https://localhost:8080/",
          "height": 204
        },
        "outputId": "ac1e802b-218e-4ee6-b939-d251b496cdb5"
      },
      "source": [
        "data_smoking_status.head()"
      ],
      "execution_count": null,
      "outputs": [
        {
          "output_type": "execute_result",
          "data": {
            "text/html": [
              "<div>\n",
              "<style scoped>\n",
              "    .dataframe tbody tr th:only-of-type {\n",
              "        vertical-align: middle;\n",
              "    }\n",
              "\n",
              "    .dataframe tbody tr th {\n",
              "        vertical-align: top;\n",
              "    }\n",
              "\n",
              "    .dataframe thead th {\n",
              "        text-align: right;\n",
              "    }\n",
              "</style>\n",
              "<table border=\"1\" class=\"dataframe\">\n",
              "  <thead>\n",
              "    <tr style=\"text-align: right;\">\n",
              "      <th></th>\n",
              "      <th>gender</th>\n",
              "      <th>age</th>\n",
              "      <th>hypertension</th>\n",
              "      <th>heart_disease</th>\n",
              "      <th>ever_married</th>\n",
              "      <th>work_type</th>\n",
              "      <th>Residence_type</th>\n",
              "      <th>avg_glucose_level</th>\n",
              "      <th>bmi</th>\n",
              "      <th>smoking_status</th>\n",
              "      <th>stroke</th>\n",
              "    </tr>\n",
              "  </thead>\n",
              "  <tbody>\n",
              "    <tr>\n",
              "      <th>1</th>\n",
              "      <td>1</td>\n",
              "      <td>58.0</td>\n",
              "      <td>1</td>\n",
              "      <td>0</td>\n",
              "      <td>1</td>\n",
              "      <td>2</td>\n",
              "      <td>1</td>\n",
              "      <td>87.96</td>\n",
              "      <td>39.2</td>\n",
              "      <td>1</td>\n",
              "      <td>0</td>\n",
              "    </tr>\n",
              "    <tr>\n",
              "      <th>3</th>\n",
              "      <td>0</td>\n",
              "      <td>70.0</td>\n",
              "      <td>0</td>\n",
              "      <td>0</td>\n",
              "      <td>1</td>\n",
              "      <td>2</td>\n",
              "      <td>0</td>\n",
              "      <td>69.04</td>\n",
              "      <td>35.9</td>\n",
              "      <td>0</td>\n",
              "      <td>0</td>\n",
              "    </tr>\n",
              "    <tr>\n",
              "      <th>6</th>\n",
              "      <td>0</td>\n",
              "      <td>52.0</td>\n",
              "      <td>0</td>\n",
              "      <td>0</td>\n",
              "      <td>1</td>\n",
              "      <td>2</td>\n",
              "      <td>1</td>\n",
              "      <td>77.59</td>\n",
              "      <td>17.7</td>\n",
              "      <td>0</td>\n",
              "      <td>0</td>\n",
              "    </tr>\n",
              "    <tr>\n",
              "      <th>7</th>\n",
              "      <td>0</td>\n",
              "      <td>75.0</td>\n",
              "      <td>0</td>\n",
              "      <td>1</td>\n",
              "      <td>1</td>\n",
              "      <td>3</td>\n",
              "      <td>0</td>\n",
              "      <td>243.53</td>\n",
              "      <td>27.0</td>\n",
              "      <td>1</td>\n",
              "      <td>0</td>\n",
              "    </tr>\n",
              "    <tr>\n",
              "      <th>8</th>\n",
              "      <td>0</td>\n",
              "      <td>32.0</td>\n",
              "      <td>0</td>\n",
              "      <td>0</td>\n",
              "      <td>1</td>\n",
              "      <td>2</td>\n",
              "      <td>0</td>\n",
              "      <td>77.67</td>\n",
              "      <td>32.3</td>\n",
              "      <td>2</td>\n",
              "      <td>0</td>\n",
              "    </tr>\n",
              "  </tbody>\n",
              "</table>\n",
              "</div>"
            ],
            "text/plain": [
              "   gender   age  hypertension  ...   bmi  smoking_status  stroke\n",
              "1       1  58.0             1  ...  39.2               1       0\n",
              "3       0  70.0             0  ...  35.9               0       0\n",
              "6       0  52.0             0  ...  17.7               0       0\n",
              "7       0  75.0             0  ...  27.0               1       0\n",
              "8       0  32.0             0  ...  32.3               2       0\n",
              "\n",
              "[5 rows x 11 columns]"
            ]
          },
          "metadata": {
            "tags": []
          },
          "execution_count": 53
        }
      ]
    },
    {
      "cell_type": "code",
      "metadata": {
        "id": "Csl5BDuZVB7O",
        "colab_type": "code",
        "colab": {}
      },
      "source": [
        "labels_No_smoke = data_No_smoking_status.columns[0:-1]\n",
        "\n",
        "X_No_smoke = data_No_smoking_status[labels_No_smoke]\n",
        "y_No_smoke = data_No_smoking_status['stroke']\n",
        "\n",
        "X_train_No_smoke, X_test_No_smoke, y_train_No_smoke, y_test_No_smoke = train_test_split(X_No_smoke, y_No_smoke, test_size=0.1, random_state=1)\n",
        "from sklearn.preprocessing import StandardScaler\n",
        "scaler = StandardScaler().fit(X_train_No_smoke)\n",
        "X_train_No_smoke = scaler.transform(X_train_No_smoke)\n",
        "X_test_No_smoke = scaler.transform(X_test_No_smoke)"
      ],
      "execution_count": null,
      "outputs": []
    },
    {
      "cell_type": "code",
      "metadata": {
        "id": "7SPBbjYAXESQ",
        "colab_type": "code",
        "colab": {}
      },
      "source": [
        "labels_smoke = data_smoking_status.columns[0:-1]\n",
        "\n",
        "X_smoke = data_smoking_status[labels_smoke]\n",
        "y_smoke = data_smoking_status['stroke']\n",
        "\n",
        "X_train_smoke, X_test_smoke, y_train_smoke, y_test_smoke = train_test_split(X_smoke, y_smoke, test_size=0.1, random_state=1)\n",
        "from sklearn.preprocessing import StandardScaler\n",
        "scaler = StandardScaler().fit(X_train_smoke)\n",
        "X_train_smoke = scaler.transform(X_train_smoke)\n",
        "X_test_smoke = scaler.transform(X_test_smoke)"
      ],
      "execution_count": null,
      "outputs": []
    },
    {
      "cell_type": "code",
      "metadata": {
        "id": "_Mm1EDAxVsft",
        "colab_type": "code",
        "colab": {
          "base_uri": "https://localhost:8080/",
          "height": 204
        },
        "outputId": "632cb45a-966c-45e2-aace-852600b4b319"
      },
      "source": [
        "pd.DataFrame(X_train_No_smoke).head()"
      ],
      "execution_count": null,
      "outputs": [
        {
          "output_type": "execute_result",
          "data": {
            "text/html": [
              "<div>\n",
              "<style scoped>\n",
              "    .dataframe tbody tr th:only-of-type {\n",
              "        vertical-align: middle;\n",
              "    }\n",
              "\n",
              "    .dataframe tbody tr th {\n",
              "        vertical-align: top;\n",
              "    }\n",
              "\n",
              "    .dataframe thead th {\n",
              "        text-align: right;\n",
              "    }\n",
              "</style>\n",
              "<table border=\"1\" class=\"dataframe\">\n",
              "  <thead>\n",
              "    <tr style=\"text-align: right;\">\n",
              "      <th></th>\n",
              "      <th>0</th>\n",
              "      <th>1</th>\n",
              "      <th>2</th>\n",
              "      <th>3</th>\n",
              "      <th>4</th>\n",
              "      <th>5</th>\n",
              "      <th>6</th>\n",
              "      <th>7</th>\n",
              "      <th>8</th>\n",
              "    </tr>\n",
              "  </thead>\n",
              "  <tbody>\n",
              "    <tr>\n",
              "      <th>0</th>\n",
              "      <td>-0.904465</td>\n",
              "      <td>-0.816432</td>\n",
              "      <td>-0.203581</td>\n",
              "      <td>-0.173108</td>\n",
              "      <td>-0.827148</td>\n",
              "      <td>1.006202</td>\n",
              "      <td>-0.993085</td>\n",
              "      <td>2.195273</td>\n",
              "      <td>-1.237409</td>\n",
              "    </tr>\n",
              "    <tr>\n",
              "      <th>1</th>\n",
              "      <td>-0.904465</td>\n",
              "      <td>-0.977387</td>\n",
              "      <td>-0.203581</td>\n",
              "      <td>-0.173108</td>\n",
              "      <td>-0.827148</td>\n",
              "      <td>1.006202</td>\n",
              "      <td>-0.993085</td>\n",
              "      <td>-0.458181</td>\n",
              "      <td>0.375926</td>\n",
              "    </tr>\n",
              "    <tr>\n",
              "      <th>2</th>\n",
              "      <td>-0.904465</td>\n",
              "      <td>-0.977387</td>\n",
              "      <td>-0.203581</td>\n",
              "      <td>-0.173108</td>\n",
              "      <td>-0.827148</td>\n",
              "      <td>1.006202</td>\n",
              "      <td>1.006963</td>\n",
              "      <td>-0.862791</td>\n",
              "      <td>-1.286671</td>\n",
              "    </tr>\n",
              "    <tr>\n",
              "      <th>3</th>\n",
              "      <td>-0.904465</td>\n",
              "      <td>0.793118</td>\n",
              "      <td>-0.203581</td>\n",
              "      <td>-0.173108</td>\n",
              "      <td>1.208974</td>\n",
              "      <td>-0.616337</td>\n",
              "      <td>1.006963</td>\n",
              "      <td>-0.136145</td>\n",
              "      <td>-0.363006</td>\n",
              "    </tr>\n",
              "    <tr>\n",
              "      <th>4</th>\n",
              "      <td>1.105626</td>\n",
              "      <td>-1.109370</td>\n",
              "      <td>-0.203581</td>\n",
              "      <td>-0.173108</td>\n",
              "      <td>-0.827148</td>\n",
              "      <td>1.006202</td>\n",
              "      <td>-0.993085</td>\n",
              "      <td>-0.162340</td>\n",
              "      <td>-1.262040</td>\n",
              "    </tr>\n",
              "  </tbody>\n",
              "</table>\n",
              "</div>"
            ],
            "text/plain": [
              "          0         1         2  ...         6         7         8\n",
              "0 -0.904465 -0.816432 -0.203581  ... -0.993085  2.195273 -1.237409\n",
              "1 -0.904465 -0.977387 -0.203581  ... -0.993085 -0.458181  0.375926\n",
              "2 -0.904465 -0.977387 -0.203581  ...  1.006963 -0.862791 -1.286671\n",
              "3 -0.904465  0.793118 -0.203581  ...  1.006963 -0.136145 -0.363006\n",
              "4  1.105626 -1.109370 -0.203581  ... -0.993085 -0.162340 -1.262040\n",
              "\n",
              "[5 rows x 9 columns]"
            ]
          },
          "metadata": {
            "tags": []
          },
          "execution_count": 61
        }
      ]
    },
    {
      "cell_type": "code",
      "metadata": {
        "id": "_h-zW62IUMM9",
        "colab_type": "code",
        "colab": {
          "base_uri": "https://localhost:8080/",
          "height": 119
        },
        "outputId": "e5e13af1-dd13-41fa-ca11-55de4c0fd8c7"
      },
      "source": [
        "from sklearn.tree import DecisionTreeClassifier\n",
        "model_smoke_tree = DecisionTreeClassifier()\n",
        "model_smoke_tree.fit(X_train_smoke,y_train_smoke)"
      ],
      "execution_count": null,
      "outputs": [
        {
          "output_type": "execute_result",
          "data": {
            "text/plain": [
              "DecisionTreeClassifier(class_weight=None, criterion='gini', max_depth=None,\n",
              "                       max_features=None, max_leaf_nodes=None,\n",
              "                       min_impurity_decrease=0.0, min_impurity_split=None,\n",
              "                       min_samples_leaf=1, min_samples_split=2,\n",
              "                       min_weight_fraction_leaf=0.0, presort=False,\n",
              "                       random_state=None, splitter='best')"
            ]
          },
          "metadata": {
            "tags": []
          },
          "execution_count": 62
        }
      ]
    },
    {
      "cell_type": "code",
      "metadata": {
        "id": "915QFtQAXtqk",
        "colab_type": "code",
        "colab": {
          "base_uri": "https://localhost:8080/",
          "height": 34
        },
        "outputId": "2d15d186-38fd-478a-e6e0-39044385b4fe"
      },
      "source": [
        "from sklearn.metrics import accuracy_score\n",
        "y_pred_smoke = model_smoke_tree.predict(X_test_smoke)\n",
        "\n",
        "accuracy = accuracy_score(y_test_smoke, y_pred_smoke)\n",
        "print(\"Accuracy including smoking status: %.2f%%\" % (accuracy * 100.0))"
      ],
      "execution_count": null,
      "outputs": [
        {
          "output_type": "stream",
          "text": [
            "Accuracy including smoking status: 95.42%\n"
          ],
          "name": "stdout"
        }
      ]
    },
    {
      "cell_type": "code",
      "metadata": {
        "id": "BkoMcJbaYJPl",
        "colab_type": "code",
        "colab": {
          "base_uri": "https://localhost:8080/",
          "height": 330
        },
        "outputId": "9ed0a4dd-028b-45fe-c3c0-02ed041bb62f"
      },
      "source": [
        "from sklearn.metrics import confusion_matrix\n",
        "from matplotlib import pyplot as plt\n",
        "\n",
        "conf_mat_smoke_tree = confusion_matrix(y_true=y_test_smoke, y_pred=y_pred_smoke)\n",
        "print('Confusion matrix:\\n', conf_mat_smoke_tree)\n",
        "\n",
        "labels = ['Class 0', 'Class 1']\n",
        "fig = plt.figure()\n",
        "ax = fig.add_subplot(111)\n",
        "cax = ax.imshow(conf_mat_smoke_tree, cmap=plt.cm.Blues, )\n",
        "fig.colorbar(cax)\n",
        "ax.set_xticklabels([''] + labels)\n",
        "ax.set_yticklabels([''] + labels)\n",
        "plt.xlabel('Predicted')\n",
        "plt.ylabel('Expected')\n",
        "plt.show()"
      ],
      "execution_count": null,
      "outputs": [
        {
          "output_type": "stream",
          "text": [
            "Confusion matrix:\n",
            " [[2869   80]\n",
            " [  58    3]]\n"
          ],
          "name": "stdout"
        },
        {
          "output_type": "display_data",
          "data": {
            "image/png": "[encoded data removed]",
            "text/plain": [
              "<Figure size 432x288 with 2 Axes>"
            ]
          },
          "metadata": {
            "tags": []
          }
        }
      ]
    },
    {
      "cell_type": "code",
      "metadata": {
        "id": "ZDRfFNrZYgRy",
        "colab_type": "code",
        "colab": {
          "base_uri": "https://localhost:8080/",
          "height": 265
        },
        "outputId": "0aec708d-22f0-4315-c06e-7b9a20f9bd5b"
      },
      "source": [
        "from sklearn import metrics\n",
        "\n",
        "fpr, tpr, _ = metrics.roc_curve(y_test_smoke,  y_pred_smoke)\n",
        "auc = metrics.roc_auc_score(y_test_smoke, y_pred_smoke)\n",
        "plt.plot(fpr,tpr,label=\"data 1, auc=\"+str(auc))\n",
        "plt.legend(loc=4)\n",
        "plt.show()"
      ],
      "execution_count": null,
      "outputs": [
        {
          "output_type": "display_data",
          "data": {
            "image/png": "[encoded data removed]",
            "text/plain": [
              "<Figure size 432x288 with 1 Axes>"
            ]
          },
          "metadata": {
            "tags": []
          }
        }
      ]
    },
    {
      "cell_type": "code",
      "metadata": {
        "id": "XGMExjjMw1hK",
        "colab_type": "code",
        "colab": {
          "base_uri": "https://localhost:8080/",
          "height": 34
        },
        "outputId": "96247cde-cd7b-4fa1-de4f-57523dfed72f"
      },
      "source": [
        "model_No_smoke_tree = DecisionTreeClassifier()\n",
        "model_No_smoke_tree.fit(X_train_No_smoke,y_train_No_smoke)\n",
        "\n",
        "y_pred_No_smoke = model_No_smoke_tree.predict(X_test_No_smoke)\n",
        "\n",
        "accuracy = accuracy_score(y_test_No_smoke, y_pred_No_smoke)\n",
        "print(\"Accuracy excluding smoking status: %.2f%%\" % (accuracy * 100.0))"
      ],
      "execution_count": null,
      "outputs": [
        {
          "output_type": "stream",
          "text": [
            "Accuracy excluding smoking status: 97.14%\n"
          ],
          "name": "stdout"
        }
      ]
    },
    {
      "cell_type": "code",
      "metadata": {
        "id": "VvTlubyoxbbs",
        "colab_type": "code",
        "colab": {
          "base_uri": "https://localhost:8080/",
          "height": 330
        },
        "outputId": "92271820-8b73-4282-b7d8-440cc0dd2218"
      },
      "source": [
        "conf_mat_No_smoke_tree = confusion_matrix(y_true=y_test_No_smoke, y_pred=y_pred_No_smoke)\n",
        "print('Confusion matrix:\\n', conf_mat_No_smoke_tree)\n",
        "\n",
        "labels = ['Class 0', 'Class 1']\n",
        "fig = plt.figure()\n",
        "ax = fig.add_subplot(111)\n",
        "cax = ax.imshow(conf_mat_No_smoke_tree, cmap=plt.cm.Blues, )\n",
        "fig.colorbar(cax)\n",
        "ax.set_xticklabels([''] + labels)\n",
        "ax.set_yticklabels([''] + labels)\n",
        "plt.xlabel('Predicted')\n",
        "plt.ylabel('Expected')\n",
        "plt.show()"
      ],
      "execution_count": null,
      "outputs": [
        {
          "output_type": "stream",
          "text": [
            "Confusion matrix:\n",
            " [[1290   21]\n",
            " [  17    1]]\n"
          ],
          "name": "stdout"
        },
        {
          "output_type": "display_data",
          "data": {
            "image/png": "[encoded data removed]",
            "text/plain": [
              "<Figure size 432x288 with 2 Axes>"
            ]
          },
          "metadata": {
            "tags": []
          }
        }
      ]
    },
    {
      "cell_type": "code",
      "metadata": {
        "id": "kFV_hpFQamHx",
        "colab_type": "code",
        "colab": {
          "base_uri": "https://localhost:8080/",
          "height": 281
        },
        "outputId": "77b724b9-b8e2-4756-bae7-47146fd2e8f6"
      },
      "source": [
        "def plot_2d_space(X, y, label='Classes'):   \n",
        "    colors = ['#1F77B4', '#FF7F0E']\n",
        "    markers = ['o', 's']\n",
        "    for l, c, m in zip(np.unique(y), colors, markers):\n",
        "        plt.scatter(\n",
        "            X[y==l, 0],\n",
        "            X[y==l, 1],\n",
        "            c=c, label=l, marker=m\n",
        "        )\n",
        "    plt.title(label)\n",
        "    plt.legend(loc='upper right')\n",
        "    plt.show()\n",
        "\n",
        "from sklearn.decomposition import PCA\n",
        "\n",
        "pca = PCA(n_components=2)\n",
        "X_train_smoke_pca = pca.fit_transform(X_train_smoke)\n",
        "\n",
        "plot_2d_space(X_train_smoke_pca, y_train_smoke, 'Imbalanced dataset (2 PCA components)')"
      ],
      "execution_count": null,
      "outputs": [
        {
          "output_type": "display_data",
          "data": {
            "image/png": "[encoded data removed]",
            "text/plain": [
              "<Figure size 432x288 with 1 Axes>"
            ]
          },
          "metadata": {
            "tags": []
          }
        }
      ]
    },
    {
      "cell_type": "code",
      "metadata": {
        "id": "HRJJp6S9mcAb",
        "colab_type": "code",
        "colab": {
          "base_uri": "https://localhost:8080/",
          "height": 34
        },
        "outputId": "5a9e22bd-5d3f-4989-d398-9f544fd5f58a"
      },
      "source": [
        "X_train_smoke_pca.shape"
      ],
      "execution_count": null,
      "outputs": [
        {
          "output_type": "execute_result",
          "data": {
            "text/plain": [
              "(27089, 2)"
            ]
          },
          "metadata": {
            "tags": []
          },
          "execution_count": 73
        }
      ]
    },
    {
      "cell_type": "code",
      "metadata": {
        "id": "jesMbltBbSHK",
        "colab_type": "code",
        "colab": {
          "base_uri": "https://localhost:8080/",
          "height": 369
        },
        "outputId": "2739b055-d741-48b5-f258-e591996d2307"
      },
      "source": [
        "from imblearn.under_sampling import RandomUnderSampler\n",
        "\n",
        "rus = RandomUnderSampler(return_indices=True)\n",
        "\n",
        "X_rus, y_rus, id_rus = rus.fit_sample(X_train_smoke, y_train_smoke)\n",
        "\n",
        "X_train_smoke_pca_RU = pca.fit_transform(X_rus)\n",
        "\n",
        "\n",
        "plot_2d_space(X_train_smoke_pca_RU, y_rus, 'Random under-sampling')"
      ],
      "execution_count": null,
      "outputs": [
        {
          "output_type": "stream",
          "text": [
            "/usr/local/lib/python3.6/dist-packages/sklearn/externals/six.py:31: DeprecationWarning:\n",
            "\n",
            "The module is deprecated in version 0.21 and will be removed in version 0.23 since we've dropped support for Python 2.7. Please rely on the official version of six (https://pypi.org/project/six/).\n",
            "\n"
          ],
          "name": "stderr"
        },
        {
          "output_type": "display_data",
          "data": {
            "image/png": "[encoded data removed]",
            "text/plain": [
              "<Figure size 432x288 with 1 Axes>"
            ]
          },
          "metadata": {
            "tags": []
          }
        }
      ]
    },
    {
      "cell_type": "code",
      "metadata": {
        "id": "hZrA1_76nzSt",
        "colab_type": "code",
        "colab": {
          "base_uri": "https://localhost:8080/",
          "height": 34
        },
        "outputId": "9c6e8a3f-c37b-4de2-e7af-8727ad494217"
      },
      "source": [
        "from collections import Counter\n",
        "\n",
        "Counter(y_rus)"
      ],
      "execution_count": null,
      "outputs": [
        {
          "output_type": "execute_result",
          "data": {
            "text/plain": [
              "Counter({0: 577, 1: 577})"
            ]
          },
          "metadata": {
            "tags": []
          },
          "execution_count": 75
        }
      ]
    },
    {
      "cell_type": "code",
      "metadata": {
        "id": "kjWm4OcjbnIM",
        "colab_type": "code",
        "colab": {}
      },
      "source": [
        "from imblearn.under_sampling import ClusterCentroids\n",
        "\n",
        "cc = ClusterCentroids(ratio={0: 2500})\n",
        "X_cc, y_cc = cc.fit_sample(X_train_smoke, y_train_smoke)"
      ],
      "execution_count": null,
      "outputs": []
    },
    {
      "cell_type": "code",
      "metadata": {
        "id": "I2Albnwmpz1D",
        "colab_type": "code",
        "colab": {
          "base_uri": "https://localhost:8080/",
          "height": 34
        },
        "outputId": "9f6e1fc8-eef9-4cc4-8f17-b5b51cee0c62"
      },
      "source": [
        "Counter(y_cc)"
      ],
      "execution_count": null,
      "outputs": [
        {
          "output_type": "execute_result",
          "data": {
            "text/plain": [
              "Counter({0: 2500, 1: 577})"
            ]
          },
          "metadata": {
            "tags": []
          },
          "execution_count": 77
        }
      ]
    },
    {
      "cell_type": "code",
      "metadata": {
        "id": "jbSbkV_fezag",
        "colab_type": "code",
        "colab": {}
      },
      "source": [
        ""
      ],
      "execution_count": null,
      "outputs": []
    },
    {
      "cell_type": "code",
      "metadata": {
        "id": "d2bMsZFckQAE",
        "colab_type": "code",
        "colab": {
          "base_uri": "https://localhost:8080/",
          "height": 281
        },
        "outputId": "b57f74a2-e11d-4d9d-8d44-4ec8bbd6eae5"
      },
      "source": [
        "X_train_smoke_pca_CC = pca.fit_transform(X_cc)\n",
        "plot_2d_space(X_train_smoke_pca_CC, y_cc, 'Cluster Centroids under-sampling')"
      ],
      "execution_count": null,
      "outputs": [
        {
          "output_type": "display_data",
          "data": {
            "image/png": "[encoded data removed]",
            "text/plain": [
              "<Figure size 432x288 with 1 Axes>"
            ]
          },
          "metadata": {
            "tags": []
          }
        }
      ]
    },
    {
      "cell_type": "code",
      "metadata": {
        "id": "JjDAWAna3fyq",
        "colab_type": "code",
        "colab": {
          "base_uri": "https://localhost:8080/",
          "height": 347
        },
        "outputId": "d542ac6f-0132-4ab0-fab5-2fed4b714f94"
      },
      "source": [
        "model_smoke_tree_Undersampling = DecisionTreeClassifier()\n",
        "model_smoke_tree_Undersampling.fit(X_cc, y_cc)\n",
        "\n",
        "y_pred_smoke_Undersampling = model_smoke_tree_Undersampling.predict(X_test_smoke)\n",
        "\n",
        "accuracy = accuracy_score(y_test_smoke, y_pred_smoke_Undersampling)\n",
        "print(\"Accuracy excluding smoking status: %.2f%%\" % (accuracy * 100.0))\n",
        "\n",
        "conf_mat_smoke_tree_Undersampling = confusion_matrix(y_true=y_test_smoke, y_pred=y_pred_smoke_Undersampling)\n",
        "print('Confusion matrix:\\n', conf_mat_smoke_tree_Undersampling)\n",
        "\n",
        "labels = ['Class 0', 'Class 1']\n",
        "fig = plt.figure()\n",
        "ax = fig.add_subplot(111)\n",
        "cax = ax.imshow(conf_mat_smoke_tree_Undersampling, cmap=plt.cm.Blues, )\n",
        "fig.colorbar(cax)\n",
        "ax.set_xticklabels([''] + labels)\n",
        "ax.set_yticklabels([''] + labels)\n",
        "plt.xlabel('Predicted')\n",
        "plt.ylabel('Expected')\n",
        "plt.show()"
      ],
      "execution_count": null,
      "outputs": [
        {
          "output_type": "stream",
          "text": [
            "Accuracy excluding smoking status: 68.84%\n",
            "Confusion matrix:\n",
            " [[2037  912]\n",
            " [  26   35]]\n"
          ],
          "name": "stdout"
        },
        {
          "output_type": "display_data",
          "data": {
            "image/png": "[encoded data removed]",
            "text/plain": [
              "<Figure size 432x288 with 2 Axes>"
            ]
          },
          "metadata": {
            "tags": []
          }
        }
      ]
    },
    {
      "cell_type": "code",
      "metadata": {
        "id": "wzeNtYAOfdFu",
        "colab_type": "code",
        "colab": {
          "base_uri": "https://localhost:8080/",
          "height": 265
        },
        "outputId": "cf99c616-ac5b-402b-94c0-5ebf34c6170c"
      },
      "source": [
        "fpr, tpr, _ = metrics.roc_curve(y_test_smoke,  y_pred_smoke_Undersampling)\n",
        "auc = metrics.roc_auc_score(y_test_smoke, y_pred_smoke_Undersampling)\n",
        "plt.plot(fpr,tpr,label=\"data 1, auc=\"+str(auc))\n",
        "plt.legend(loc=4)\n",
        "plt.show()"
      ],
      "execution_count": null,
      "outputs": [
        {
          "output_type": "display_data",
          "data": {
            "image/png": "[encoded data removed]",
            "text/plain": [
              "<Figure size 432x288 with 1 Axes>"
            ]
          },
          "metadata": {
            "tags": []
          }
        }
      ]
    },
    {
      "cell_type": "code",
      "metadata": {
        "id": "1q0hin1rYsFu",
        "colab_type": "code",
        "colab": {}
      },
      "source": [
        "from xgboost import XGBClassifier\n",
        "from sklearn.model_selection import train_test_split\n",
        "from sklearn.metrics import accuracy_score"
      ],
      "execution_count": null,
      "outputs": []
    },
    {
      "cell_type": "code",
      "metadata": {
        "id": "goEeMEbwDtAQ",
        "colab_type": "code",
        "colab": {
          "base_uri": "https://localhost:8080/",
          "height": 34
        },
        "outputId": "386d9e85-39fe-4a1d-8592-6fb2607fedb9"
      },
      "source": [
        "model_smoke_boost_Undersampling = XGBClassifier()\n",
        "model_smoke_boost_Undersampling.fit(X_cc, y_cc)\n",
        "\n",
        "y_pred_smoke_boost_Undersampling = model_smoke_boost_Undersampling.predict(X_test_smoke)\n",
        "\n",
        "accuracy = accuracy_score(y_test_smoke, y_pred_smoke_boost_Undersampling)\n",
        "print(\"Accuracy: %.2f%%\" % (accuracy * 100.0))"
      ],
      "execution_count": null,
      "outputs": [
        {
          "output_type": "stream",
          "text": [
            "Accuracy: 88.27%\n"
          ],
          "name": "stdout"
        }
      ]
    },
    {
      "cell_type": "code",
      "metadata": {
        "id": "qAk26huAF1wp",
        "colab_type": "code",
        "colab": {
          "base_uri": "https://localhost:8080/",
          "height": 330
        },
        "outputId": "332fc4a6-c28b-4a4f-a53f-6908ec16f72e"
      },
      "source": [
        "conf_mat_smoke_boost_Undersampling = confusion_matrix(y_true=y_test_smoke, y_pred=y_pred_smoke_boost_Undersampling)\n",
        "print('Confusion matrix:\\n', conf_mat_smoke_boost_Undersampling)\n",
        "\n",
        "labels = ['Class 0', 'Class 1']\n",
        "fig = plt.figure()\n",
        "ax = fig.add_subplot(111)\n",
        "cax = ax.imshow(conf_mat_smoke_boost_Undersampling, cmap=plt.cm.Blues, )\n",
        "fig.colorbar(cax)\n",
        "ax.set_xticklabels([''] + labels)\n",
        "ax.set_yticklabels([''] + labels)\n",
        "plt.xlabel('Predicted')\n",
        "plt.ylabel('Expected')\n",
        "plt.show()"
      ],
      "execution_count": null,
      "outputs": [
        {
          "output_type": "stream",
          "text": [
            "Confusion matrix:\n",
            " [[2638  311]\n",
            " [  42   19]]\n"
          ],
          "name": "stdout"
        },
        {
          "output_type": "display_data",
          "data": {
            "image/png": "[encoded data removed]",
            "text/plain": [
              "<Figure size 432x288 with 2 Axes>"
            ]
          },
          "metadata": {
            "tags": []
          }
        }
      ]
    },
    {
      "cell_type": "code",
      "metadata": {
        "id": "QMe-hTa1HolH",
        "colab_type": "code",
        "colab": {
          "base_uri": "https://localhost:8080/",
          "height": 265
        },
        "outputId": "506d89c2-b9f0-4a73-a566-3fe6834d13ab"
      },
      "source": [
        "fpr, tpr, _ = metrics.roc_curve(y_test_smoke,  y_pred_smoke_boost_Undersampling)\n",
        "auc = metrics.roc_auc_score(y_test_smoke, y_pred_smoke_boost_Undersampling)\n",
        "plt.plot(fpr,tpr,label=\"data 1, auc=\"+str(auc))\n",
        "plt.legend(loc=4)\n",
        "plt.show()"
      ],
      "execution_count": null,
      "outputs": [
        {
          "output_type": "display_data",
          "data": {
            "image/png": "[encoded data removed]",
            "text/plain": [
              "<Figure size 432x288 with 1 Axes>"
            ]
          },
          "metadata": {
            "tags": []
          }
        }
      ]
    },
    {
      "cell_type": "code",
      "metadata": {
        "id": "RsvJDMpYE2nP",
        "colab_type": "code",
        "colab": {
          "base_uri": "https://localhost:8080/",
          "height": 204
        },
        "outputId": "2c18213b-1449-4633-820c-4d1dce19da35"
      },
      "source": [
        "X_Cluster_centroid = pd.DataFrame(X_cc)\n",
        "X_Cluster_centroid.head()"
      ],
      "execution_count": null,
      "outputs": [
        {
          "output_type": "execute_result",
          "data": {
            "text/html": [
              "<div>\n",
              "<style scoped>\n",
              "    .dataframe tbody tr th:only-of-type {\n",
              "        vertical-align: middle;\n",
              "    }\n",
              "\n",
              "    .dataframe tbody tr th {\n",
              "        vertical-align: top;\n",
              "    }\n",
              "\n",
              "    .dataframe thead th {\n",
              "        text-align: right;\n",
              "    }\n",
              "</style>\n",
              "<table border=\"1\" class=\"dataframe\">\n",
              "  <thead>\n",
              "    <tr style=\"text-align: right;\">\n",
              "      <th></th>\n",
              "      <th>0</th>\n",
              "      <th>1</th>\n",
              "      <th>2</th>\n",
              "      <th>3</th>\n",
              "      <th>4</th>\n",
              "      <th>5</th>\n",
              "      <th>6</th>\n",
              "      <th>7</th>\n",
              "      <th>8</th>\n",
              "      <th>9</th>\n",
              "    </tr>\n",
              "  </thead>\n",
              "  <tbody>\n",
              "    <tr>\n",
              "      <th>0</th>\n",
              "      <td>1.253139</td>\n",
              "      <td>1.463510</td>\n",
              "      <td>-0.364243</td>\n",
              "      <td>-0.243137</td>\n",
              "      <td>0.577848</td>\n",
              "      <td>0.075564</td>\n",
              "      <td>0.994368</td>\n",
              "      <td>-0.135178</td>\n",
              "      <td>0.210392</td>\n",
              "      <td>-1.421353</td>\n",
              "    </tr>\n",
              "    <tr>\n",
              "      <th>1</th>\n",
              "      <td>1.253139</td>\n",
              "      <td>-0.426085</td>\n",
              "      <td>-0.364243</td>\n",
              "      <td>-0.243137</td>\n",
              "      <td>0.577848</td>\n",
              "      <td>0.075564</td>\n",
              "      <td>-1.005664</td>\n",
              "      <td>-0.550287</td>\n",
              "      <td>-0.433384</td>\n",
              "      <td>1.514336</td>\n",
              "    </tr>\n",
              "    <tr>\n",
              "      <th>2</th>\n",
              "      <td>-0.797996</td>\n",
              "      <td>0.527194</td>\n",
              "      <td>-0.364243</td>\n",
              "      <td>-0.243137</td>\n",
              "      <td>0.577848</td>\n",
              "      <td>0.075564</td>\n",
              "      <td>0.994368</td>\n",
              "      <td>-0.336098</td>\n",
              "      <td>1.014555</td>\n",
              "      <td>0.046492</td>\n",
              "    </tr>\n",
              "    <tr>\n",
              "      <th>3</th>\n",
              "      <td>1.253139</td>\n",
              "      <td>-1.560230</td>\n",
              "      <td>-0.364243</td>\n",
              "      <td>-0.243137</td>\n",
              "      <td>-1.730560</td>\n",
              "      <td>0.075564</td>\n",
              "      <td>0.994368</td>\n",
              "      <td>-0.517620</td>\n",
              "      <td>-1.108727</td>\n",
              "      <td>0.046492</td>\n",
              "    </tr>\n",
              "    <tr>\n",
              "      <th>4</th>\n",
              "      <td>-0.797996</td>\n",
              "      <td>-0.423765</td>\n",
              "      <td>-0.364243</td>\n",
              "      <td>-0.243137</td>\n",
              "      <td>0.577848</td>\n",
              "      <td>0.075564</td>\n",
              "      <td>-1.005664</td>\n",
              "      <td>0.423702</td>\n",
              "      <td>-1.065877</td>\n",
              "      <td>0.046492</td>\n",
              "    </tr>\n",
              "  </tbody>\n",
              "</table>\n",
              "</div>"
            ],
            "text/plain": [
              "          0         1         2  ...         7         8         9\n",
              "0  1.253139  1.463510 -0.364243  ... -0.135178  0.210392 -1.421353\n",
              "1  1.253139 -0.426085 -0.364243  ... -0.550287 -0.433384  1.514336\n",
              "2 -0.797996  0.527194 -0.364243  ... -0.336098  1.014555  0.046492\n",
              "3  1.253139 -1.560230 -0.364243  ... -0.517620 -1.108727  0.046492\n",
              "4 -0.797996 -0.423765 -0.364243  ...  0.423702 -1.065877  0.046492\n",
              "\n",
              "[5 rows x 10 columns]"
            ]
          },
          "metadata": {
            "tags": []
          },
          "execution_count": 86
        }
      ]
    },
    {
      "cell_type": "code",
      "metadata": {
        "id": "B43NWpxbFypA",
        "colab_type": "code",
        "colab": {
          "base_uri": "https://localhost:8080/",
          "height": 204
        },
        "outputId": "bc548770-93fc-4d74-fa64-6865102f1f7c"
      },
      "source": [
        "data_smoking_status.head()"
      ],
      "execution_count": null,
      "outputs": [
        {
          "output_type": "execute_result",
          "data": {
            "text/html": [
              "<div>\n",
              "<style scoped>\n",
              "    .dataframe tbody tr th:only-of-type {\n",
              "        vertical-align: middle;\n",
              "    }\n",
              "\n",
              "    .dataframe tbody tr th {\n",
              "        vertical-align: top;\n",
              "    }\n",
              "\n",
              "    .dataframe thead th {\n",
              "        text-align: right;\n",
              "    }\n",
              "</style>\n",
              "<table border=\"1\" class=\"dataframe\">\n",
              "  <thead>\n",
              "    <tr style=\"text-align: right;\">\n",
              "      <th></th>\n",
              "      <th>gender</th>\n",
              "      <th>age</th>\n",
              "      <th>hypertension</th>\n",
              "      <th>heart_disease</th>\n",
              "      <th>ever_married</th>\n",
              "      <th>work_type</th>\n",
              "      <th>Residence_type</th>\n",
              "      <th>avg_glucose_level</th>\n",
              "      <th>bmi</th>\n",
              "      <th>smoking_status</th>\n",
              "      <th>stroke</th>\n",
              "    </tr>\n",
              "  </thead>\n",
              "  <tbody>\n",
              "    <tr>\n",
              "      <th>1</th>\n",
              "      <td>1</td>\n",
              "      <td>58.0</td>\n",
              "      <td>1</td>\n",
              "      <td>0</td>\n",
              "      <td>1</td>\n",
              "      <td>2</td>\n",
              "      <td>1</td>\n",
              "      <td>87.96</td>\n",
              "      <td>39.2</td>\n",
              "      <td>1</td>\n",
              "      <td>0</td>\n",
              "    </tr>\n",
              "    <tr>\n",
              "      <th>3</th>\n",
              "      <td>0</td>\n",
              "      <td>70.0</td>\n",
              "      <td>0</td>\n",
              "      <td>0</td>\n",
              "      <td>1</td>\n",
              "      <td>2</td>\n",
              "      <td>0</td>\n",
              "      <td>69.04</td>\n",
              "      <td>35.9</td>\n",
              "      <td>0</td>\n",
              "      <td>0</td>\n",
              "    </tr>\n",
              "    <tr>\n",
              "      <th>6</th>\n",
              "      <td>0</td>\n",
              "      <td>52.0</td>\n",
              "      <td>0</td>\n",
              "      <td>0</td>\n",
              "      <td>1</td>\n",
              "      <td>2</td>\n",
              "      <td>1</td>\n",
              "      <td>77.59</td>\n",
              "      <td>17.7</td>\n",
              "      <td>0</td>\n",
              "      <td>0</td>\n",
              "    </tr>\n",
              "    <tr>\n",
              "      <th>7</th>\n",
              "      <td>0</td>\n",
              "      <td>75.0</td>\n",
              "      <td>0</td>\n",
              "      <td>1</td>\n",
              "      <td>1</td>\n",
              "      <td>3</td>\n",
              "      <td>0</td>\n",
              "      <td>243.53</td>\n",
              "      <td>27.0</td>\n",
              "      <td>1</td>\n",
              "      <td>0</td>\n",
              "    </tr>\n",
              "    <tr>\n",
              "      <th>8</th>\n",
              "      <td>0</td>\n",
              "      <td>32.0</td>\n",
              "      <td>0</td>\n",
              "      <td>0</td>\n",
              "      <td>1</td>\n",
              "      <td>2</td>\n",
              "      <td>0</td>\n",
              "      <td>77.67</td>\n",
              "      <td>32.3</td>\n",
              "      <td>2</td>\n",
              "      <td>0</td>\n",
              "    </tr>\n",
              "  </tbody>\n",
              "</table>\n",
              "</div>"
            ],
            "text/plain": [
              "   gender   age  hypertension  ...   bmi  smoking_status  stroke\n",
              "1       1  58.0             1  ...  39.2               1       0\n",
              "3       0  70.0             0  ...  35.9               0       0\n",
              "6       0  52.0             0  ...  17.7               0       0\n",
              "7       0  75.0             0  ...  27.0               1       0\n",
              "8       0  32.0             0  ...  32.3               2       0\n",
              "\n",
              "[5 rows x 11 columns]"
            ]
          },
          "metadata": {
            "tags": []
          },
          "execution_count": 87
        }
      ]
    },
    {
      "cell_type": "code",
      "metadata": {
        "id": "XbcJd1Gj6cx3",
        "colab_type": "code",
        "colab": {}
      },
      "source": [
        "from imblearn.over_sampling import SMOTENC\n",
        "\n",
        "smt = SMOTENC(categorical_features=[0,2,3,4,5,6,9],k_neighbors=4)\n",
        "X_smoke_resample_train, y_smoke_resample_train = smt.fit_sample(X_cc, y_cc)"
      ],
      "execution_count": null,
      "outputs": []
    },
    {
      "cell_type": "code",
      "metadata": {
        "id": "dV-76adN7Dyx",
        "colab_type": "code",
        "colab": {
          "base_uri": "https://localhost:8080/",
          "height": 34
        },
        "outputId": "d41208a9-fc1f-4f26-d05a-85282fb9ad70"
      },
      "source": [
        "Counter(y_smoke_resample_train)"
      ],
      "execution_count": null,
      "outputs": [
        {
          "output_type": "execute_result",
          "data": {
            "text/plain": [
              "Counter({0: 2500, 1: 2500})"
            ]
          },
          "metadata": {
            "tags": []
          },
          "execution_count": 89
        }
      ]
    },
    {
      "cell_type": "code",
      "metadata": {
        "id": "ZOJsRsE5gjeU",
        "colab_type": "code",
        "colab": {
          "base_uri": "https://localhost:8080/",
          "height": 457
        },
        "outputId": "0b70fe75-f649-4e7f-d1bc-360335bd903f"
      },
      "source": [
        "y_ = pd.DataFrame(y_smoke_resample_train)\n",
        "y_.rename(columns={0:'stroke'}, inplace=True)\n",
        "resamp = pd.concat([pd.DataFrame(X_smoke_resample_train), y_], axis=1)\n",
        "sns.factorplot(x='stroke', kind='count' ,data=resamp)\n",
        "fig = plt.gcf()"
      ],
      "execution_count": null,
      "outputs": [
        {
          "output_type": "stream",
          "text": [
            "/usr/local/lib/python3.6/dist-packages/seaborn/categorical.py:3666: UserWarning:\n",
            "\n",
            "The `factorplot` function has been renamed to `catplot`. The original name will be removed in a future release. Please update your code. Note that the default `kind` in `factorplot` (`'point'`) has changed `'strip'` in `catplot`.\n",
            "\n"
          ],
          "name": "stderr"
        },
        {
          "output_type": "display_data",
          "data": {
            "image/png": "[encoded data removed]",
            "text/plain": [
              "<Figure size 360x360 with 1 Axes>"
            ]
          },
          "metadata": {
            "tags": []
          }
        }
      ]
    },
    {
      "cell_type": "code",
      "metadata": {
        "id": "kpQDMLsdidkr",
        "colab_type": "code",
        "colab": {}
      },
      "source": [
        ""
      ],
      "execution_count": null,
      "outputs": []
    },
    {
      "cell_type": "code",
      "metadata": {
        "id": "sRnqiKIr7NVv",
        "colab_type": "code",
        "colab": {
          "base_uri": "https://localhost:8080/",
          "height": 347
        },
        "outputId": "53761cc3-0445-4f11-b57c-4fe7c6ee31e3"
      },
      "source": [
        "model_smoke_tree_Resampling = DecisionTreeClassifier()\n",
        "model_smoke_tree_Resampling.fit(X_smoke_resample_train, y_smoke_resample_train)\n",
        "\n",
        "y_pred_smoke_Resampling = model_smoke_tree_Resampling.predict(X_test_smoke)\n",
        "\n",
        "accuracy = accuracy_score(y_test_smoke, y_pred_smoke_Resampling)\n",
        "print(\"Accuracy including smoking status: %.2f%%\" % (accuracy * 100.0))\n",
        "\n",
        "conf_mat_smoke_tree_Resampling = confusion_matrix(y_true=y_test_smoke, y_pred=y_pred_smoke_Resampling)\n",
        "print('Confusion matrix:\\n', conf_mat_smoke_tree_Resampling)\n",
        "\n",
        "labels = ['Class 0', 'Class 1']\n",
        "fig = plt.figure()\n",
        "ax = fig.add_subplot(111)\n",
        "cax = ax.imshow(conf_mat_smoke_tree_Resampling, cmap=plt.cm.Blues, )\n",
        "fig.colorbar(cax)\n",
        "ax.set_xticklabels([''] + labels)\n",
        "ax.set_yticklabels([''] + labels)\n",
        "plt.xlabel('Predicted')\n",
        "plt.ylabel('Expected')\n",
        "plt.show()"
      ],
      "execution_count": null,
      "outputs": [
        {
          "output_type": "stream",
          "text": [
            "Accuracy including smoking status: 71.20%\n",
            "Confusion matrix:\n",
            " [[2112  837]\n",
            " [  30   31]]\n"
          ],
          "name": "stdout"
        },
        {
          "output_type": "display_data",
          "data": {
            "image/png": "[encoded data removed]",
            "text/plain": [
              "<Figure size 432x288 with 2 Axes>"
            ]
          },
          "metadata": {
            "tags": []
          }
        }
      ]
    },
    {
      "cell_type": "code",
      "metadata": {
        "id": "utm9TAIy7VYj",
        "colab_type": "code",
        "colab": {
          "base_uri": "https://localhost:8080/",
          "height": 265
        },
        "outputId": "34b7811f-eb27-40ed-a7e9-08a347720cd5"
      },
      "source": [
        "fpr, tpr, _ = metrics.roc_curve(y_test_smoke,  y_pred_smoke_Resampling)\n",
        "auc = metrics.roc_auc_score(y_test_smoke, y_pred_smoke_Resampling)\n",
        "plt.plot(fpr,tpr,label=\"data 1, auc=\"+str(auc))\n",
        "plt.legend(loc=4)\n",
        "plt.show()"
      ],
      "execution_count": null,
      "outputs": [
        {
          "output_type": "display_data",
          "data": {
            "image/png": "[encoded data removed]",
            "text/plain": [
              "<Figure size 432x288 with 1 Axes>"
            ]
          },
          "metadata": {
            "tags": []
          }
        }
      ]
    },
    {
      "cell_type": "code",
      "metadata": {
        "id": "WOlSaWlCLH5h",
        "colab_type": "code",
        "colab": {
          "base_uri": "https://localhost:8080/",
          "height": 347
        },
        "outputId": "d8b51284-e4da-417c-ba58-7895ae6a3768"
      },
      "source": [
        "from sklearn.svm import SVC\n",
        "svclassifier_smoke = SVC(kernel='linear')\n",
        "svclassifier_smoke.fit(X_smoke_resample_train, y_smoke_resample_train)\n",
        "\n",
        "y_pred_svm_smoke = svclassifier_smoke.predict(X_test_smoke)\n",
        "\n",
        "accuracy = accuracy_score(y_test_smoke, y_pred_svm_smoke)\n",
        "print(\"Accuracy including smoking status: %.2f%%\" % (accuracy * 100.0))\n",
        "\n",
        "conf_mat_smoke_svm_Resampling = confusion_matrix(y_true=y_test_smoke, y_pred=y_pred_svm_smoke)\n",
        "print('Confusion matrix:\\n', conf_mat_smoke_svm_Resampling)\n",
        "\n",
        "labels = ['Class 0', 'Class 1']\n",
        "fig = plt.figure()\n",
        "ax = fig.add_subplot(111)\n",
        "cax = ax.imshow(conf_mat_smoke_svm_Resampling, cmap=plt.cm.Blues, )\n",
        "fig.colorbar(cax)\n",
        "ax.set_xticklabels([''] + labels)\n",
        "ax.set_yticklabels([''] + labels)\n",
        "plt.xlabel('Predicted')\n",
        "plt.ylabel('Expected')\n",
        "plt.show()"
      ],
      "execution_count": null,
      "outputs": [
        {
          "output_type": "stream",
          "text": [
            "Accuracy including smoking status: 70.00%\n",
            "Confusion matrix:\n",
            " [[2068  881]\n",
            " [  22   39]]\n"
          ],
          "name": "stdout"
        },
        {
          "output_type": "display_data",
          "data": {
            "image/png": "[encoded data removed]",
            "text/plain": [
              "<Figure size 432x288 with 2 Axes>"
            ]
          },
          "metadata": {
            "tags": []
          }
        }
      ]
    },
    {
      "cell_type": "code",
      "metadata": {
        "id": "R-OCWJFbL1p1",
        "colab_type": "code",
        "colab": {
          "base_uri": "https://localhost:8080/",
          "height": 265
        },
        "outputId": "622f956a-2e0b-437d-a14e-2ec3bd9ad214"
      },
      "source": [
        "fpr, tpr, _ = metrics.roc_curve(y_test_smoke,  y_pred_svm_smoke)\n",
        "auc = metrics.roc_auc_score(y_test_smoke, y_pred_svm_smoke)\n",
        "plt.plot(fpr,tpr,label=\"data 1, auc=\"+str(auc))\n",
        "plt.legend(loc=4)\n",
        "plt.show()"
      ],
      "execution_count": null,
      "outputs": [
        {
          "output_type": "display_data",
          "data": {
            "image/png": "[encoded data removed]",
            "text/plain": [
              "<Figure size 432x288 with 1 Axes>"
            ]
          },
          "metadata": {
            "tags": []
          }
        }
      ]
    },
    {
      "cell_type": "code",
      "metadata": {
        "id": "SbHURaWIKcdL",
        "colab_type": "code",
        "colab": {}
      },
      "source": [
        "from sklearn.model_selection import StratifiedKFold\n",
        "from sklearn.model_selection import validation_curve\n",
        "import matplotlib.pyplot as plt\n",
        "\n",
        "param_range = np.arange(1, 41, 2)\n",
        "train_scores, test_scores = validation_curve(\n",
        "    DecisionTreeClassifier(), X_smoke_resample_train, y_smoke_resample_train, param_name=\"max_depth\", cv=10, \n",
        "    param_range=param_range,n_jobs=8,\n",
        "    scoring=\"roc_auc\")"
      ],
      "execution_count": null,
      "outputs": []
    },
    {
      "cell_type": "code",
      "metadata": {
        "id": "DB9NrHeKN1o2",
        "colab_type": "code",
        "colab": {
          "base_uri": "https://localhost:8080/",
          "height": 622
        },
        "outputId": "010aa7a9-a71b-496e-bdb2-612cd6eb18bb"
      },
      "source": [
        "train_scores_mean = np.mean(train_scores, axis=1)\n",
        "train_scores_std = np.std(train_scores, axis=1)\n",
        "test_scores_mean = np.mean(test_scores, axis=1)\n",
        "test_scores_std = np.std(test_scores, axis=1)\n",
        "plt.figure(figsize=(10,10))\n",
        "plt.title(\"Validation Curve with DecisionTree\")\n",
        "plt.xlabel(\"max_depth\")\n",
        "plt.ylabel(\"Score\")\n",
        "plt.ylim(0.0, 1.1)\n",
        "plt.fill_between(param_range, train_scores_mean - train_scores_std, train_scores_mean + train_scores_std, alpha=0.2, color=\"r\")\n",
        "plt.plot(param_range, train_scores_mean, label=\"Training score\",\n",
        "             color=\"r\")\n",
        "plt.fill_between(param_range, test_scores_mean - test_scores_std, test_scores_mean + test_scores_std, alpha=0.2, color=\"g\")\n",
        "plt.plot(param_range, test_scores_mean, label=\"Cross-validation score\",\n",
        "             color=\"g\")\n",
        "\n",
        "plt.legend(loc=\"best\")\n",
        "plt.xticks(param_range)\n",
        "plt.savefig('DSSE.jpg')\n",
        "plt.show()"
      ],
      "execution_count": null,
      "outputs": [
        {
          "output_type": "display_data",
          "data": {
            "image/png": "[encoded data removed]",
            "text/plain": [
              "<Figure size 720x720 with 1 Axes>"
            ]
          },
          "metadata": {
            "tags": []
          }
        }
      ]
    },
    {
      "cell_type": "code",
      "metadata": {
        "id": "45rFkUIRz8-x",
        "colab_type": "code",
        "colab": {}
      },
      "source": [
        "param_range = ['linear','rbf','poly']\n",
        "train_scores, test_scores = validation_curve(\n",
        "    svm.SVC(C = 1.0), X_smoke_resample_train, y_smoke_resample_train, param_name=\"kernel\", cv=10, \n",
        "    param_range=param_range,n_jobs=8,scoring=\"roc_auc\")"
      ],
      "execution_count": null,
      "outputs": []
    },
    {
      "cell_type": "code",
      "metadata": {
        "id": "KBEMUCJhHYWq",
        "colab_type": "code",
        "colab": {
          "base_uri": "https://localhost:8080/",
          "height": 622
        },
        "outputId": "9a6c825a-c0d4-4f60-e2aa-8318b6a84753"
      },
      "source": [
        "train_scores_mean = np.mean(train_scores, axis=1)\n",
        "train_scores_std = np.std(train_scores, axis=1)\n",
        "test_scores_mean = np.mean(test_scores, axis=1)\n",
        "test_scores_std = np.std(test_scores, axis=1)\n",
        "plt.figure(figsize=(10,10))\n",
        "plt.title(\"Validation Curve with SVM\")\n",
        "plt.xlabel(\"Kernal_Type\")\n",
        "plt.ylabel(\"Score\")\n",
        "plt.ylim(0.0, 1.1)\n",
        "plt.fill_between(param_range, train_scores_mean - train_scores_std, train_scores_mean + train_scores_std, alpha=0.2, color=\"r\")\n",
        "plt.plot(param_range, train_scores_mean, label=\"Training score\",\n",
        "             color=\"r\")\n",
        "plt.fill_between(param_range, test_scores_mean - test_scores_std, test_scores_mean + test_scores_std, alpha=0.2, color=\"g\")\n",
        "plt.plot(param_range, test_scores_mean, label=\"Cross-validation score\",\n",
        "             color=\"g\")\n",
        "\n",
        "plt.legend(loc=\"best\")\n",
        "plt.xticks(param_range)\n",
        "plt.savefig('DSSE.jpg')\n",
        "plt.show()"
      ],
      "execution_count": null,
      "outputs": [
        {
          "output_type": "display_data",
          "data": {
            "image/png": "[encoded data removed]",
            "text/plain": [
              "<Figure size 720x720 with 1 Axes>"
            ]
          },
          "metadata": {
            "tags": []
          }
        }
      ]
    },
    {
      "cell_type": "code",
      "metadata": {
        "id": "3B7yKFK-I-Sm",
        "colab_type": "code",
        "colab": {
          "base_uri": "https://localhost:8080/",
          "height": 347
        },
        "outputId": "ad64843a-3148-4540-9daa-f57e5b2c1b99"
      },
      "source": [
        "from sklearn.svm import SVC\n",
        "svclassifier_smoke_2 = SVC(kernel='linear',C = 1.0)\n",
        "svclassifier_smoke_2.fit(X_smoke_resample_train, y_smoke_resample_train)\n",
        "\n",
        "y_pred_svm_smoke_2 = svclassifier_smoke_2.predict(X_test_smoke)\n",
        "\n",
        "accuracy = accuracy_score(y_test_smoke, y_pred_svm_smoke_2)\n",
        "print(\"Accuracy including smoking status: %.2f%%\" % (accuracy * 100.0))\n",
        "\n",
        "conf_mat_smoke_svm_Resampling_2 = confusion_matrix(y_true=y_test_smoke, y_pred=y_pred_svm_smoke_2)\n",
        "print('Confusion matrix:\\n', conf_mat_smoke_svm_Resampling_2)\n",
        "\n",
        "labels = ['Class 0', 'Class 1']\n",
        "fig = plt.figure()\n",
        "ax = fig.add_subplot(111)\n",
        "cax = ax.imshow(conf_mat_smoke_svm_Resampling_2, cmap=plt.cm.Blues, )\n",
        "fig.colorbar(cax)\n",
        "ax.set_xticklabels([''] + labels)\n",
        "ax.set_yticklabels([''] + labels)\n",
        "plt.xlabel('Predicted')\n",
        "plt.ylabel('Expected')\n",
        "plt.show()"
      ],
      "execution_count": null,
      "outputs": [
        {
          "output_type": "stream",
          "text": [
            "Accuracy including smoking status: 70.00%\n",
            "Confusion matrix:\n",
            " [[2068  881]\n",
            " [  22   39]]\n"
          ],
          "name": "stdout"
        },
        {
          "output_type": "display_data",
          "data": {
            "image/png": "[encoded data removed]",
            "text/plain": [
              "<Figure size 432x288 with 2 Axes>"
            ]
          },
          "metadata": {
            "tags": []
          }
        }
      ]
    },
    {
      "cell_type": "code",
      "metadata": {
        "id": "w6ZMbaKXMxP-",
        "colab_type": "code",
        "colab": {
          "base_uri": "https://localhost:8080/",
          "height": 265
        },
        "outputId": "e6c1724f-3a86-4962-c045-0a14788af49e"
      },
      "source": [
        "fpr, tpr, _ = metrics.roc_curve(y_test_smoke,  y_pred_svm_smoke_2)\n",
        "auc = metrics.roc_auc_score(y_test_smoke, y_pred_svm_smoke_2)\n",
        "plt.plot(fpr,tpr,label=\"data 1, auc=\"+str(auc))\n",
        "plt.legend(loc=4)\n",
        "plt.show()"
      ],
      "execution_count": null,
      "outputs": [
        {
          "output_type": "display_data",
          "data": {
            "image/png": "[encoded data removed]",
            "text/plain": [
              "<Figure size 432x288 with 1 Axes>"
            ]
          },
          "metadata": {
            "tags": []
          }
        }
      ]
    },
    {
      "cell_type": "code",
      "metadata": {
        "id": "HJ869B5yFwED",
        "colab_type": "code",
        "colab": {
          "base_uri": "https://localhost:8080/",
          "height": 348
        },
        "outputId": "8550bbc4-2ef4-40f2-8990-4ae9776b1b16"
      },
      "source": [
        "model_smoke_tree_Resampling_2 = DecisionTreeClassifier(max_depth=7, criterion=\"gini\")\n",
        "model_smoke_tree_Resampling_2.fit(X_smoke_resample_train, y_smoke_resample_train)\n",
        "\n",
        "y_pred_smoke_Resampling_2 = model_smoke_tree_Resampling_2.predict(X_test_smoke)\n",
        "\n",
        "accuracy = accuracy_score(y_test_smoke, y_pred_smoke_Resampling_2)\n",
        "print(\"Accuracy including smoking status: %.2f%%\" % (accuracy * 100.0))\n",
        "\n",
        "conf_mat_smoke_tree_Resampling = confusion_matrix(y_true=y_test_smoke, y_pred=y_pred_smoke_Resampling_2)\n",
        "print('Confusion matrix:\\n', conf_mat_smoke_tree_Resampling)\n",
        "\n",
        "labels = ['Class 0', 'Class 1']\n",
        "fig = plt.figure()\n",
        "ax = fig.add_subplot(111)\n",
        "cax = ax.imshow(conf_mat_smoke_tree_Resampling, cmap=plt.cm.Blues, )\n",
        "fig.colorbar(cax)\n",
        "ax.set_xticklabels([''] + labels)\n",
        "ax.set_yticklabels([''] + labels)\n",
        "plt.xlabel('Predicted')\n",
        "plt.ylabel('Expected')\n",
        "plt.show()"
      ],
      "execution_count": null,
      "outputs": [
        {
          "output_type": "stream",
          "text": [
            "Accuracy including smoking status: 55.65%\n",
            "Confusion matrix:\n",
            " [[1627 1322]\n",
            " [  13   48]]\n"
          ],
          "name": "stdout"
        },
        {
          "output_type": "display_data",
          "data": {
            "image/png": "[encoded data removed]",
            "text/plain": [
              "<Figure size 432x288 with 2 Axes>"
            ]
          },
          "metadata": {
            "tags": []
          }
        }
      ]
    },
    {
      "cell_type": "code",
      "metadata": {
        "id": "CAJyDXTYF3Vc",
        "colab_type": "code",
        "colab": {
          "base_uri": "https://localhost:8080/",
          "height": 265
        },
        "outputId": "83ffc561-674c-445b-899a-943156c35214"
      },
      "source": [
        "fpr, tpr, _ = metrics.roc_curve(y_test_smoke,  y_pred_smoke_Resampling_2)\n",
        "auc = metrics.roc_auc_score(y_test_smoke, y_pred_smoke_Resampling_2)\n",
        "plt.plot(fpr,tpr,label=\"data 1, auc=\"+str(auc))\n",
        "plt.legend(loc=4)\n",
        "plt.show()"
      ],
      "execution_count": null,
      "outputs": [
        {
          "output_type": "display_data",
          "data": {
            "image/png": "[encoded data removed]",
            "text/plain": [
              "<Figure size 432x288 with 1 Axes>"
            ]
          },
          "metadata": {
            "tags": []
          }
        }
      ]
    },
    {
      "cell_type": "code",
      "metadata": {
        "id": "8JORwNS9qvLc",
        "colab_type": "code",
        "colab": {
          "base_uri": "https://localhost:8080/",
          "height": 34
        },
        "outputId": "2431449b-cd1d-4ea9-a8ef-1f0a347e0853"
      },
      "source": [
        "model_No_smoke_tree = DecisionTreeClassifier()\n",
        "model_No_smoke_tree.fit(X_train_No_smoke,y_train_No_smoke)\n",
        "\n",
        "y_pred_No_smoke = model_No_smoke_tree.predict(X_test_No_smoke)\n",
        "\n",
        "accuracy = accuracy_score(y_test_No_smoke, y_pred_No_smoke)\n",
        "print(\"Accuracy excluding smoking status: %.2f%%\" % (accuracy * 100.0))\n"
      ],
      "execution_count": null,
      "outputs": [
        {
          "output_type": "stream",
          "text": [
            "Accuracy excluding smoking status: 97.82%\n"
          ],
          "name": "stdout"
        }
      ]
    },
    {
      "cell_type": "code",
      "metadata": {
        "id": "Gi_Ci0vErYiS",
        "colab_type": "code",
        "colab": {
          "base_uri": "https://localhost:8080/",
          "height": 34
        },
        "outputId": "075e26d9-8052-47de-de7d-2e403c6fa419"
      },
      "source": [
        "Counter(y_train_No_smoke)"
      ],
      "execution_count": null,
      "outputs": [
        {
          "output_type": "execute_result",
          "data": {
            "text/plain": [
              "Counter({0: 11834, 1: 127})"
            ]
          },
          "metadata": {
            "tags": []
          },
          "execution_count": 327
        }
      ]
    },
    {
      "cell_type": "code",
      "metadata": {
        "id": "HShA2iQrriEn",
        "colab_type": "code",
        "colab": {}
      },
      "source": [
        "from imblearn.under_sampling import ClusterCentroids\n",
        "\n",
        "cc_No_smoke = ClusterCentroids(ratio={0: 2500})\n",
        "X_cc_No_smoke, y_cc_No_smoke = cc_No_smoke.fit_sample(X_train_No_smoke,y_train_No_smoke)"
      ],
      "execution_count": null,
      "outputs": []
    },
    {
      "cell_type": "code",
      "metadata": {
        "id": "XCr-Qmekr4GD",
        "colab_type": "code",
        "colab": {
          "base_uri": "https://localhost:8080/",
          "height": 281
        },
        "outputId": "43afd388-6200-458b-9f72-669d0ccaf7ff"
      },
      "source": [
        "X_train_No_smoke_pca_CC = pca.fit_transform(X_cc_No_smoke)\n",
        "plot_2d_space(X_train_No_smoke_pca_CC, y_cc_No_smoke, 'Cluster Centroids under-sampling')"
      ],
      "execution_count": null,
      "outputs": [
        {
          "output_type": "display_data",
          "data": {
            "image/png": "[encoded data removed]",
            "text/plain": [
              "<Figure size 432x288 with 1 Axes>"
            ]
          },
          "metadata": {
            "tags": []
          }
        }
      ]
    },
    {
      "cell_type": "code",
      "metadata": {
        "id": "AJ09TTP9sRB2",
        "colab_type": "code",
        "colab": {
          "base_uri": "https://localhost:8080/",
          "height": 347
        },
        "outputId": "6368d56b-06b6-4112-84c5-e5a9499ff72c"
      },
      "source": [
        "model_No_smoke_tree_Undersampling = DecisionTreeClassifier()\n",
        "model_No_smoke_tree_Undersampling.fit(X_cc_No_smoke, y_cc_No_smoke)\n",
        "\n",
        "y_pred_No_smoke_Undersampling = model_No_smoke_tree_Undersampling.predict(X_test_No_smoke)\n",
        "\n",
        "accuracy = accuracy_score(y_test_No_smoke, y_pred_No_smoke_Undersampling)\n",
        "print(\"Accuracy excluding smoking status: %.2f%%\" % (accuracy * 100.0))\n",
        "\n",
        "conf_mat_No_smoke_tree_Undersampling = confusion_matrix(y_true=y_test_No_smoke, y_pred=y_pred_No_smoke_Undersampling)\n",
        "print('Confusion matrix:\\n', conf_mat_No_smoke_tree_Undersampling)\n",
        "\n",
        "labels = ['Class 0', 'Class 1']\n",
        "fig = plt.figure()\n",
        "ax = fig.add_subplot(111)\n",
        "cax = ax.imshow(conf_mat_No_smoke_tree_Undersampling, cmap=plt.cm.Blues, )\n",
        "fig.colorbar(cax)\n",
        "ax.set_xticklabels([''] + labels)\n",
        "ax.set_yticklabels([''] + labels)\n",
        "plt.xlabel('Predicted')\n",
        "plt.ylabel('Expected')\n",
        "plt.show()"
      ],
      "execution_count": null,
      "outputs": [
        {
          "output_type": "stream",
          "text": [
            "Accuracy excluding smoking status: 94.88%\n",
            "Confusion matrix:\n",
            " [[1258   53]\n",
            " [  15    3]]\n"
          ],
          "name": "stdout"
        },
        {
          "output_type": "display_data",
          "data": {
            "image/png": "[encoded data removed]",
            "text/plain": [
              "<Figure size 432x288 with 2 Axes>"
            ]
          },
          "metadata": {
            "tags": []
          }
        }
      ]
    },
    {
      "cell_type": "code",
      "metadata": {
        "id": "laDt5Edts9-Y",
        "colab_type": "code",
        "colab": {
          "base_uri": "https://localhost:8080/",
          "height": 265
        },
        "outputId": "475b0e3f-9b88-499e-90c4-78330de92d2a"
      },
      "source": [
        "fpr, tpr, _ = metrics.roc_curve(y_test_No_smoke,  y_pred_No_smoke_Undersampling)\n",
        "auc = metrics.roc_auc_score(y_test_No_smoke, y_pred_No_smoke_Undersampling)\n",
        "plt.plot(fpr,tpr,label=\"data 1, auc=\"+str(auc))\n",
        "plt.legend(loc=4)\n",
        "plt.show()"
      ],
      "execution_count": null,
      "outputs": [
        {
          "output_type": "display_data",
          "data": {
            "image/png": "[encoded data removed]",
            "text/plain": [
              "<Figure size 432x288 with 1 Axes>"
            ]
          },
          "metadata": {
            "tags": []
          }
        }
      ]
    },
    {
      "cell_type": "code",
      "metadata": {
        "id": "uTyqNyOKtZof",
        "colab_type": "code",
        "colab": {
          "base_uri": "https://localhost:8080/",
          "height": 34
        },
        "outputId": "0a73eae3-ea5e-4f47-8a9b-6d6bd081de41"
      },
      "source": [
        "Counter(y_cc_No_smoke)"
      ],
      "execution_count": null,
      "outputs": [
        {
          "output_type": "execute_result",
          "data": {
            "text/plain": [
              "Counter({0: 2500, 1: 127})"
            ]
          },
          "metadata": {
            "tags": []
          },
          "execution_count": 124
        }
      ]
    },
    {
      "cell_type": "code",
      "metadata": {
        "id": "WQEyzaj8uCea",
        "colab_type": "code",
        "colab": {
          "base_uri": "https://localhost:8080/",
          "height": 204
        },
        "outputId": "307f5364-9963-49a4-a632-1caf155b1951"
      },
      "source": [
        "pd.DataFrame(data_smoking_status).head()"
      ],
      "execution_count": null,
      "outputs": [
        {
          "output_type": "execute_result",
          "data": {
            "text/html": [
              "<div>\n",
              "<style scoped>\n",
              "    .dataframe tbody tr th:only-of-type {\n",
              "        vertical-align: middle;\n",
              "    }\n",
              "\n",
              "    .dataframe tbody tr th {\n",
              "        vertical-align: top;\n",
              "    }\n",
              "\n",
              "    .dataframe thead th {\n",
              "        text-align: right;\n",
              "    }\n",
              "</style>\n",
              "<table border=\"1\" class=\"dataframe\">\n",
              "  <thead>\n",
              "    <tr style=\"text-align: right;\">\n",
              "      <th></th>\n",
              "      <th>gender</th>\n",
              "      <th>age</th>\n",
              "      <th>hypertension</th>\n",
              "      <th>heart_disease</th>\n",
              "      <th>ever_married</th>\n",
              "      <th>work_type</th>\n",
              "      <th>Residence_type</th>\n",
              "      <th>avg_glucose_level</th>\n",
              "      <th>bmi</th>\n",
              "      <th>smoking_status</th>\n",
              "      <th>stroke</th>\n",
              "    </tr>\n",
              "  </thead>\n",
              "  <tbody>\n",
              "    <tr>\n",
              "      <th>1</th>\n",
              "      <td>1</td>\n",
              "      <td>58.0</td>\n",
              "      <td>1</td>\n",
              "      <td>0</td>\n",
              "      <td>1</td>\n",
              "      <td>2</td>\n",
              "      <td>1</td>\n",
              "      <td>87.96</td>\n",
              "      <td>39.2</td>\n",
              "      <td>1</td>\n",
              "      <td>0</td>\n",
              "    </tr>\n",
              "    <tr>\n",
              "      <th>3</th>\n",
              "      <td>0</td>\n",
              "      <td>70.0</td>\n",
              "      <td>0</td>\n",
              "      <td>0</td>\n",
              "      <td>1</td>\n",
              "      <td>2</td>\n",
              "      <td>0</td>\n",
              "      <td>69.04</td>\n",
              "      <td>35.9</td>\n",
              "      <td>0</td>\n",
              "      <td>0</td>\n",
              "    </tr>\n",
              "    <tr>\n",
              "      <th>6</th>\n",
              "      <td>0</td>\n",
              "      <td>52.0</td>\n",
              "      <td>0</td>\n",
              "      <td>0</td>\n",
              "      <td>1</td>\n",
              "      <td>2</td>\n",
              "      <td>1</td>\n",
              "      <td>77.59</td>\n",
              "      <td>17.7</td>\n",
              "      <td>0</td>\n",
              "      <td>0</td>\n",
              "    </tr>\n",
              "    <tr>\n",
              "      <th>7</th>\n",
              "      <td>0</td>\n",
              "      <td>75.0</td>\n",
              "      <td>0</td>\n",
              "      <td>1</td>\n",
              "      <td>1</td>\n",
              "      <td>3</td>\n",
              "      <td>0</td>\n",
              "      <td>243.53</td>\n",
              "      <td>27.0</td>\n",
              "      <td>1</td>\n",
              "      <td>0</td>\n",
              "    </tr>\n",
              "    <tr>\n",
              "      <th>8</th>\n",
              "      <td>0</td>\n",
              "      <td>32.0</td>\n",
              "      <td>0</td>\n",
              "      <td>0</td>\n",
              "      <td>1</td>\n",
              "      <td>2</td>\n",
              "      <td>0</td>\n",
              "      <td>77.67</td>\n",
              "      <td>32.3</td>\n",
              "      <td>2</td>\n",
              "      <td>0</td>\n",
              "    </tr>\n",
              "  </tbody>\n",
              "</table>\n",
              "</div>"
            ],
            "text/plain": [
              "   gender   age  hypertension  ...   bmi  smoking_status  stroke\n",
              "1       1  58.0             1  ...  39.2               1       0\n",
              "3       0  70.0             0  ...  35.9               0       0\n",
              "6       0  52.0             0  ...  17.7               0       0\n",
              "7       0  75.0             0  ...  27.0               1       0\n",
              "8       0  32.0             0  ...  32.3               2       0\n",
              "\n",
              "[5 rows x 11 columns]"
            ]
          },
          "metadata": {
            "tags": []
          },
          "execution_count": 125
        }
      ]
    },
    {
      "cell_type": "code",
      "metadata": {
        "id": "3UBmYKfotyLH",
        "colab_type": "code",
        "colab": {}
      },
      "source": [
        "from imblearn.over_sampling import SMOTENC\n",
        "\n",
        "smt_No_smoke = SMOTENC(categorical_features=[0,2,3,4,5,6],k_neighbors=4)\n",
        "X_No_smoke_resample_train, y_No_smoke_resample_train = smt_No_smoke.fit_sample(X_cc_No_smoke, y_cc_No_smoke)"
      ],
      "execution_count": null,
      "outputs": []
    },
    {
      "cell_type": "code",
      "metadata": {
        "id": "fQ8ifoS4uh3S",
        "colab_type": "code",
        "colab": {
          "base_uri": "https://localhost:8080/",
          "height": 351
        },
        "outputId": "e29cbea2-a59c-4023-9100-6449af91638a"
      },
      "source": [
        "model_No_smoke_tree_Resampling = DecisionTreeClassifier()\n",
        "model_No_smoke_tree_Resampling.fit(X_No_smoke_resample_train, y_No_smoke_resample_train)\n",
        "\n",
        "y_pred_No_smoke_Resampling = model_No_smoke_tree_Resampling.predict(X_test_No_smoke)\n",
        "\n",
        "accuracy = accuracy_score(y_test_No_smoke, y_pred_No_smoke_Resampling)\n",
        "print(\"Accuracy excluding smoking status: %.2f%%\" % (accuracy * 100.0))\n",
        "\n",
        "conf_mat_No_smoke_tree_Resampling = confusion_matrix(y_true=y_test_No_smoke, y_pred=y_pred_No_smoke_Resampling)\n",
        "print('Confusion matrix:\\n', conf_mat_No_smoke_tree_Resampling)\n",
        "\n",
        "labels = ['Class 0', 'Class 1']\n",
        "fig = plt.figure()\n",
        "ax = fig.add_subplot(111)\n",
        "cax = ax.imshow(conf_mat_No_smoke_tree_Resampling, cmap=plt.cm.Blues, )\n",
        "fig.colorbar(cax)\n",
        "ax.set_xticklabels([''] + labels)\n",
        "ax.set_yticklabels([''] + labels)\n",
        "plt.xlabel('Predicted')\n",
        "plt.ylabel('Expected')\n",
        "plt.show()"
      ],
      "execution_count": null,
      "outputs": [
        {
          "output_type": "stream",
          "text": [
            "Accuracy excluding smoking status: 90.67%\n",
            "Confusion matrix:\n",
            " [[1201  110]\n",
            " [  14    4]]\n"
          ],
          "name": "stdout"
        },
        {
          "output_type": "display_data",
          "data": {
            "image/png": "[encoded data removed]",
            "text/plain": [
              "<Figure size 432x288 with 2 Axes>"
            ]
          },
          "metadata": {
            "tags": []
          }
        }
      ]
    },
    {
      "cell_type": "code",
      "metadata": {
        "id": "RECGPLa0vJfn",
        "colab_type": "code",
        "colab": {
          "base_uri": "https://localhost:8080/",
          "height": 265
        },
        "outputId": "b14c3556-df3b-45a6-e96f-01303f3ec7fa"
      },
      "source": [
        "fpr, tpr, _ = metrics.roc_curve(y_test_No_smoke,  y_pred_No_smoke_Resampling)\n",
        "auc = metrics.roc_auc_score(y_test_No_smoke, y_pred_No_smoke_Resampling)\n",
        "plt.plot(fpr,tpr,label=\"data 1, auc=\"+str(auc))\n",
        "plt.legend(loc=4)\n",
        "plt.show()"
      ],
      "execution_count": null,
      "outputs": [
        {
          "output_type": "display_data",
          "data": {
            "image/png": "[encoded data removed]",
            "text/plain": [
              "<Figure size 432x288 with 1 Axes>"
            ]
          },
          "metadata": {
            "tags": []
          }
        }
      ]
    },
    {
      "cell_type": "code",
      "metadata": {
        "id": "iJD86tRHvj98",
        "colab_type": "code",
        "colab": {
          "base_uri": "https://localhost:8080/",
          "height": 347
        },
        "outputId": "22a02082-e494-4944-e379-148a515e4130"
      },
      "source": [
        "from sklearn.svm import SVC\n",
        "svclassifier_No_smoke = SVC(kernel='linear')\n",
        "svclassifier_No_smoke.fit(X_No_smoke_resample_train, y_No_smoke_resample_train)\n",
        "\n",
        "y_pred_svm_No_smoke = svclassifier_No_smoke.predict(X_test_No_smoke)\n",
        "\n",
        "accuracy = accuracy_score(y_test_No_smoke, y_pred_svm_No_smoke)\n",
        "print(\"Accuracy excluding smoking status: %.2f%%\" % (accuracy * 100.0))\n",
        "\n",
        "conf_mat_No_smoke_svm_Resampling = confusion_matrix(y_true=y_test_No_smoke, y_pred=y_pred_svm_No_smoke)\n",
        "print('Confusion matrix:\\n', conf_mat_No_smoke_svm_Resampling)\n",
        "\n",
        "labels = ['Class 0', 'Class 1']\n",
        "fig = plt.figure()\n",
        "ax = fig.add_subplot(111)\n",
        "cax = ax.imshow(conf_mat_No_smoke_svm_Resampling, cmap=plt.cm.Blues, )\n",
        "fig.colorbar(cax)\n",
        "ax.set_xticklabels([''] + labels)\n",
        "ax.set_yticklabels([''] + labels)\n",
        "plt.xlabel('Predicted')\n",
        "plt.ylabel('Expected')\n",
        "plt.show()"
      ],
      "execution_count": null,
      "outputs": [
        {
          "output_type": "stream",
          "text": [
            "Accuracy excluding smoking status: 81.04%\n",
            "Confusion matrix:\n",
            " [[1065  246]\n",
            " [   6   12]]\n"
          ],
          "name": "stdout"
        },
        {
          "output_type": "display_data",
          "data": {
            "image/png": "[encoded data removed]",
            "text/plain": [
              "<Figure size 432x288 with 2 Axes>"
            ]
          },
          "metadata": {
            "tags": []
          }
        }
      ]
    },
    {
      "cell_type": "code",
      "metadata": {
        "id": "nK1IF5EhwZTU",
        "colab_type": "code",
        "colab": {
          "base_uri": "https://localhost:8080/",
          "height": 265
        },
        "outputId": "930152f2-a7dd-443d-e652-b5d076a2c6d4"
      },
      "source": [
        "fpr, tpr, _ = metrics.roc_curve(y_test_No_smoke,  y_pred_svm_No_smoke)\n",
        "auc = metrics.roc_auc_score(y_test_No_smoke, y_pred_svm_No_smoke)\n",
        "plt.plot(fpr,tpr,label=\"data 1, auc=\"+str(auc))\n",
        "plt.legend(loc=4)\n",
        "plt.show()"
      ],
      "execution_count": null,
      "outputs": [
        {
          "output_type": "display_data",
          "data": {
            "image/png": "[encoded data removed]",
            "text/plain": [
              "<Figure size 432x288 with 1 Axes>"
            ]
          },
          "metadata": {
            "tags": []
          }
        }
      ]
    },
    {
      "cell_type": "code",
      "metadata": {
        "id": "tMTRLT9Vw5dq",
        "colab_type": "code",
        "colab": {}
      },
      "source": [
        "from sklearn.model_selection import StratifiedKFold\n",
        "from sklearn.model_selection import validation_curve\n",
        "import matplotlib.pyplot as plt\n",
        "\n",
        "param_range = np.arange(1, 41, 2)\n",
        "train_scores, test_scores = validation_curve(\n",
        "    DecisionTreeClassifier(), X_No_smoke_resample_train, y_No_smoke_resample_train, param_name=\"max_depth\", cv=10, \n",
        "    param_range=param_range,n_jobs=8,\n",
        "    scoring=\"recall\")"
      ],
      "execution_count": null,
      "outputs": []
    },
    {
      "cell_type": "code",
      "metadata": {
        "id": "v21T4TaDyGxu",
        "colab_type": "code",
        "colab": {
          "base_uri": "https://localhost:8080/",
          "height": 714
        },
        "outputId": "73ae6ae9-66e4-446d-feb2-e86434a65018"
      },
      "source": [
        "import sklearn\n",
        "sorted(sklearn.metrics.SCORERS.keys())"
      ],
      "execution_count": null,
      "outputs": [
        {
          "output_type": "execute_result",
          "data": {
            "text/plain": [
              "['accuracy',\n",
              " 'adjusted_mutual_info_score',\n",
              " 'adjusted_rand_score',\n",
              " 'average_precision',\n",
              " 'balanced_accuracy',\n",
              " 'brier_score_loss',\n",
              " 'completeness_score',\n",
              " 'explained_variance',\n",
              " 'f1',\n",
              " 'f1_macro',\n",
              " 'f1_micro',\n",
              " 'f1_samples',\n",
              " 'f1_weighted',\n",
              " 'fowlkes_mallows_score',\n",
              " 'homogeneity_score',\n",
              " 'jaccard',\n",
              " 'jaccard_macro',\n",
              " 'jaccard_micro',\n",
              " 'jaccard_samples',\n",
              " 'jaccard_weighted',\n",
              " 'max_error',\n",
              " 'mutual_info_score',\n",
              " 'neg_log_loss',\n",
              " 'neg_mean_absolute_error',\n",
              " 'neg_mean_squared_error',\n",
              " 'neg_mean_squared_log_error',\n",
              " 'neg_median_absolute_error',\n",
              " 'normalized_mutual_info_score',\n",
              " 'precision',\n",
              " 'precision_macro',\n",
              " 'precision_micro',\n",
              " 'precision_samples',\n",
              " 'precision_weighted',\n",
              " 'r2',\n",
              " 'recall',\n",
              " 'recall_macro',\n",
              " 'recall_micro',\n",
              " 'recall_samples',\n",
              " 'recall_weighted',\n",
              " 'roc_auc',\n",
              " 'v_measure_score']"
            ]
          },
          "metadata": {
            "tags": []
          },
          "execution_count": 351
        }
      ]
    },
    {
      "cell_type": "code",
      "metadata": {
        "id": "linWEVFPxZbZ",
        "colab_type": "code",
        "colab": {
          "base_uri": "https://localhost:8080/",
          "height": 622
        },
        "outputId": "1c0a290d-134c-4e88-affb-63ddec0390a1"
      },
      "source": [
        "train_scores_mean = np.mean(train_scores, axis=1)\n",
        "train_scores_std = np.std(train_scores, axis=1)\n",
        "test_scores_mean = np.mean(test_scores, axis=1)\n",
        "test_scores_std = np.std(test_scores, axis=1)\n",
        "plt.figure(figsize=(10,10))\n",
        "plt.title(\"Validation Curve with DecisionTree\")\n",
        "plt.xlabel(\"max_depth\")\n",
        "plt.ylabel(\"Score\")\n",
        "plt.ylim(0.0, 1.1)\n",
        "plt.fill_between(param_range, train_scores_mean - train_scores_std, train_scores_mean + train_scores_std, alpha=0.2, color=\"r\")\n",
        "plt.plot(param_range, train_scores_mean, label=\"Training score\",\n",
        "             color=\"r\")\n",
        "plt.fill_between(param_range, test_scores_mean - test_scores_std, test_scores_mean + test_scores_std, alpha=0.2, color=\"g\")\n",
        "plt.plot(param_range, test_scores_mean, label=\"Cross-validation score\",\n",
        "             color=\"g\")\n",
        "\n",
        "plt.legend(loc=\"best\")\n",
        "plt.xticks(param_range)\n",
        "plt.savefig('DSSE.jpg')\n",
        "plt.show()"
      ],
      "execution_count": null,
      "outputs": [
        {
          "output_type": "display_data",
          "data": {
            "image/png": "[encoded data removed]",
            "text/plain": [
              "<Figure size 720x720 with 1 Axes>"
            ]
          },
          "metadata": {
            "tags": []
          }
        }
      ]
    },
    {
      "cell_type": "code",
      "metadata": {
        "id": "ECyrO0TGzEOS",
        "colab_type": "code",
        "colab": {
          "base_uri": "https://localhost:8080/",
          "height": 215
        },
        "outputId": "b994c69e-a30d-4ef4-f29b-5dd26b754acb"
      },
      "source": [
        "param_range = ['linear','rbf','poly']\n",
        "train_scores, test_scores = validation_curve(\n",
        "    svm.SVC(C = 1.0), X_No_smoke_resample_train, y_No_smoke_resample_train, param_name=\"kernel\", cv=10, \n",
        "    param_range=param_range,n_jobs=8,scoring=\"roc_auc\")"
      ],
      "execution_count": null,
      "outputs": [
        {
          "output_type": "error",
          "ename": "NameError",
          "evalue": "ignored",
          "traceback": [
            "\u001b[0;31m---------------------------------------------------------------------------\u001b[0m",
            "\u001b[0;31mNameError\u001b[0m                                 Traceback (most recent call last)",
            "\u001b[0;32m<ipython-input-117-6077c739e42f>\u001b[0m in \u001b[0;36m<module>\u001b[0;34m()\u001b[0m\n\u001b[1;32m      1\u001b[0m \u001b[0mparam_range\u001b[0m \u001b[0;34m=\u001b[0m \u001b[0;34m[\u001b[0m\u001b[0;34m'linear'\u001b[0m\u001b[0;34m,\u001b[0m\u001b[0;34m'rbf'\u001b[0m\u001b[0;34m,\u001b[0m\u001b[0;34m'poly'\u001b[0m\u001b[0;34m]\u001b[0m\u001b[0;34m\u001b[0m\u001b[0;34m\u001b[0m\u001b[0m\n\u001b[1;32m      2\u001b[0m train_scores, test_scores = validation_curve(\n\u001b[0;32m----> 3\u001b[0;31m     \u001b[0msvm\u001b[0m\u001b[0;34m.\u001b[0m\u001b[0mSVC\u001b[0m\u001b[0;34m(\u001b[0m\u001b[0mC\u001b[0m \u001b[0;34m=\u001b[0m \u001b[0;36m1.0\u001b[0m\u001b[0;34m)\u001b[0m\u001b[0;34m,\u001b[0m \u001b[0mX_No_smoke_resample_train\u001b[0m\u001b[0;34m,\u001b[0m \u001b[0my_No_smoke_resample_train\u001b[0m\u001b[0;34m,\u001b[0m \u001b[0mparam_name\u001b[0m\u001b[0;34m=\u001b[0m\u001b[0;34m\"kernel\"\u001b[0m\u001b[0;34m,\u001b[0m \u001b[0mcv\u001b[0m\u001b[0;34m=\u001b[0m\u001b[0;36m10\u001b[0m\u001b[0;34m,\u001b[0m\u001b[0;34m\u001b[0m\u001b[0;34m\u001b[0m\u001b[0m\n\u001b[0m\u001b[1;32m      4\u001b[0m     param_range=param_range,n_jobs=8,scoring=\"roc_auc\")\n",
            "\u001b[0;31mNameError\u001b[0m: name 'X_No_smoke_resample_train' is not defined"
          ]
        }
      ]
    },
    {
      "cell_type": "code",
      "metadata": {
        "id": "-FbbluCVzU0V",
        "colab_type": "code",
        "colab": {
          "base_uri": "https://localhost:8080/",
          "height": 622
        },
        "outputId": "8e1682b1-9271-4da4-e15a-c80eae60a4d2"
      },
      "source": [
        "train_scores_mean = np.mean(train_scores, axis=1)\n",
        "train_scores_std = np.std(train_scores, axis=1)\n",
        "test_scores_mean = np.mean(test_scores, axis=1)\n",
        "test_scores_std = np.std(test_scores, axis=1)\n",
        "plt.figure(figsize=(10,10))\n",
        "plt.title(\"Validation Curve with SVM\")\n",
        "plt.xlabel(\"Regularization_parameter C\")\n",
        "plt.ylabel(\"Score\")\n",
        "plt.ylim(0.0, 1.1)\n",
        "plt.fill_between(param_range, train_scores_mean - train_scores_std, train_scores_mean + train_scores_std, alpha=0.2, color=\"r\")\n",
        "plt.plot(param_range, train_scores_mean, label=\"Training score\",\n",
        "             color=\"r\")\n",
        "plt.fill_between(param_range, test_scores_mean - test_scores_std, test_scores_mean + test_scores_std, alpha=0.2, color=\"g\")\n",
        "plt.plot(param_range, test_scores_mean, label=\"Cross-validation score\",\n",
        "             color=\"g\")\n",
        "\n",
        "plt.legend(loc=\"best\")\n",
        "plt.xticks(param_range)\n",
        "plt.savefig('DSSE.jpg')\n",
        "plt.show()"
      ],
      "execution_count": null,
      "outputs": [
        {
          "output_type": "display_data",
          "data": {
            "image/png": "[encoded data removed]",
            "text/plain": [
              "<Figure size 720x720 with 1 Axes>"
            ]
          },
          "metadata": {
            "tags": []
          }
        }
      ]
    },
    {
      "cell_type": "code",
      "metadata": {
        "id": "opdgGMsn01pE",
        "colab_type": "code",
        "colab": {
          "base_uri": "https://localhost:8080/",
          "height": 347
        },
        "outputId": "4d4d7f08-fad0-44b3-f346-c7937b9f9a2f"
      },
      "source": [
        "model_No_smoke_tree_Resampling_2 = DecisionTreeClassifier(max_depth=7, criterion=\"gini\")\n",
        "model_No_smoke_tree_Resampling_2.fit(X_No_smoke_resample_train, y_No_smoke_resample_train)\n",
        "\n",
        "y_pred_No_smoke_Resampling_2 = model_No_smoke_tree_Resampling_2.predict(X_test_No_smoke)\n",
        "\n",
        "accuracy = accuracy_score(y_test_No_smoke, y_pred_No_smoke_Resampling_2)\n",
        "print(\"Accuracy excluding smoking status: %.2f%%\" % (accuracy * 100.0))\n",
        "\n",
        "conf_mat_No_smoke_tree_Resampling_2 = confusion_matrix(y_true=y_test_No_smoke, y_pred=y_pred_No_smoke_Resampling_2)\n",
        "print('Confusion matrix:\\n', conf_mat_No_smoke_tree_Resampling_2)\n",
        "\n",
        "labels = ['Class 0', 'Class 1']\n",
        "fig = plt.figure()\n",
        "ax = fig.add_subplot(111)\n",
        "cax = ax.imshow(conf_mat_No_smoke_tree_Resampling_2, cmap=plt.cm.Blues, )\n",
        "fig.colorbar(cax)\n",
        "ax.set_xticklabels([''] + labels)\n",
        "ax.set_yticklabels([''] + labels)\n",
        "plt.xlabel('Predicted')\n",
        "plt.ylabel('Expected')\n",
        "plt.show()"
      ],
      "execution_count": null,
      "outputs": [
        {
          "output_type": "stream",
          "text": [
            "Accuracy excluding smoking status: 82.84%\n",
            "Confusion matrix:\n",
            " [[1088  223]\n",
            " [   5   13]]\n"
          ],
          "name": "stdout"
        },
        {
          "output_type": "display_data",
          "data": {
            "image/png": "[encoded data removed]",
            "text/plain": [
              "<Figure size 432x288 with 2 Axes>"
            ]
          },
          "metadata": {
            "tags": []
          }
        }
      ]
    },
    {
      "cell_type": "code",
      "metadata": {
        "id": "GU_ba4W31fWk",
        "colab_type": "code",
        "colab": {
          "base_uri": "https://localhost:8080/",
          "height": 265
        },
        "outputId": "5c700f78-b997-4379-8349-07a6561105ba"
      },
      "source": [
        "fpr, tpr, _ = metrics.roc_curve(y_test_No_smoke,  y_pred_No_smoke_Resampling_2)\n",
        "auc = metrics.roc_auc_score(y_test_No_smoke, y_pred_No_smoke_Resampling_2)\n",
        "plt.plot(fpr,tpr,label=\"data 1, auc=\"+str(auc))\n",
        "plt.legend(loc=4)\n",
        "plt.show()"
      ],
      "execution_count": null,
      "outputs": [
        {
          "output_type": "display_data",
          "data": {
            "image/png": "[encoded data removed]",
            "text/plain": [
              "<Figure size 432x288 with 1 Axes>"
            ]
          },
          "metadata": {
            "tags": []
          }
        }
      ]
    },
    {
      "cell_type": "code",
      "metadata": {
        "id": "4JnFvgvh1uSL",
        "colab_type": "code",
        "colab": {
          "base_uri": "https://localhost:8080/",
          "height": 347
        },
        "outputId": "5b3a73f4-eed3-4350-ff71-c941d5b1c4d9"
      },
      "source": [
        "from sklearn.svm import SVC\n",
        "svclassifier_No_smoke_2 = SVC(kernel='linear',C = 1.0)\n",
        "svclassifier_No_smoke_2.fit(X_No_smoke_resample_train, y_No_smoke_resample_train)\n",
        "\n",
        "y_pred_svm_No_smoke_2 = svclassifier_No_smoke_2.predict(X_test_No_smoke)\n",
        "\n",
        "accuracy = accuracy_score(y_test_No_smoke, y_pred_svm_No_smoke_2)\n",
        "print(\"Accuracy excluding smoking status: %.2f%%\" % (accuracy * 100.0))\n",
        "\n",
        "conf_mat_No_smoke_svm_Resampling_2 = confusion_matrix(y_true=y_test_No_smoke, y_pred=y_pred_svm_No_smoke_2)\n",
        "print('Confusion matrix:\\n', conf_mat_No_smoke_svm_Resampling_2)\n",
        "\n",
        "labels = ['Class 0', 'Class 1']\n",
        "fig = plt.figure()\n",
        "ax = fig.add_subplot(111)\n",
        "cax = ax.imshow(conf_mat_No_smoke_svm_Resampling_2, cmap=plt.cm.Blues, )\n",
        "fig.colorbar(cax)\n",
        "ax.set_xticklabels([''] + labels)\n",
        "ax.set_yticklabels([''] + labels)\n",
        "plt.xlabel('Predicted')\n",
        "plt.ylabel('Expected')\n",
        "plt.show()"
      ],
      "execution_count": null,
      "outputs": [
        {
          "output_type": "stream",
          "text": [
            "Accuracy excluding smoking status: 81.04%\n",
            "Confusion matrix:\n",
            " [[1065  246]\n",
            " [   6   12]]\n"
          ],
          "name": "stdout"
        },
        {
          "output_type": "display_data",
          "data": {
            "image/png": "[encoded data removed]",
            "text/plain": [
              "<Figure size 432x288 with 2 Axes>"
            ]
          },
          "metadata": {
            "tags": []
          }
        }
      ]
    },
    {
      "cell_type": "code",
      "metadata": {
        "id": "5ly_WEQ-2Xrn",
        "colab_type": "code",
        "colab": {
          "base_uri": "https://localhost:8080/",
          "height": 265
        },
        "outputId": "f2eb5f85-1990-4df4-a0ce-9afb70fe8767"
      },
      "source": [
        "fpr, tpr, _ = metrics.roc_curve(y_test_No_smoke,  y_pred_svm_No_smoke_2)\n",
        "auc = metrics.roc_auc_score(y_test_No_smoke, y_pred_svm_No_smoke_2)\n",
        "plt.plot(fpr,tpr,label=\"data 1, auc=\"+str(auc))\n",
        "plt.legend(loc=4)\n",
        "plt.show()"
      ],
      "execution_count": null,
      "outputs": [
        {
          "output_type": "display_data",
          "data": {
            "image/png": "[encoded data removed]",
            "text/plain": [
              "<Figure size 432x288 with 1 Axes>"
            ]
          },
          "metadata": {
            "tags": []
          }
        }
      ]
    }
  ]
}